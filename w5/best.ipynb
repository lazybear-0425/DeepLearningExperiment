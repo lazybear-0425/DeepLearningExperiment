{
 "cells": [
  {
   "cell_type": "markdown",
   "metadata": {},
   "source": [
    "## House Prices "
   ]
  },
  {
   "cell_type": "markdown",
   "metadata": {},
   "source": [
    " - [Competition](https://www.kaggle.com/c/house-prices-advanced-regression-techniques/overview)\n",
    " - [學習](https://www.kaggle.com/code/shunsukeozeki/house-prices-regression-with-pytorch)\n",
    " - 我記得可以觀察資料和Col相關性\n",
    " - [tqdm](https://blog.csdn.net/qq_43391414/article/details/121981491)"
   ]
  },
  {
   "cell_type": "code",
   "execution_count": null,
   "metadata": {},
   "outputs": [],
   "source": [
    "from torch.utils.data import DataLoader, Dataset\n",
    "from torch.optim import SGD, Adam\n",
    "from torch.nn import RMSNorm\n",
    "from torch import nn\n",
    "import torch\n",
    "from torch.utils.data import TensorDataset\n",
    "import numpy as np\n",
    "import pandas as pd\n",
    "import math\n",
    "import matplotlib.pyplot as plt\n",
    "import os\n",
    "from sklearn.preprocessing import PowerTransformer, StandardScaler\n",
    "from sklearn.model_selection import KFold"
   ]
  },
  {
   "cell_type": "code",
   "execution_count": null,
   "metadata": {},
   "outputs": [],
   "source": [
    "device = 'cuda' if torch.cuda.is_available() else 'cpu'"
   ]
  },
  {
   "cell_type": "code",
   "execution_count": null,
   "metadata": {},
   "outputs": [],
   "source": [
    "train_data = pd.read_csv(r'D:\\NCNU\\深度學習實驗\\w5\\house-prices-advanced-regression-techniques\\train.csv')\n",
    "test_data = pd.read_csv(r'D:\\NCNU\\深度學習實驗\\w5\\house-prices-advanced-regression-techniques\\test.csv')"
   ]
  },
  {
   "cell_type": "markdown",
   "metadata": {},
   "source": [
    "## Feature Engineering"
   ]
  },
  {
   "cell_type": "markdown",
   "metadata": {},
   "source": [
    " - 看缺失值\n",
    " - `display()`\n",
    "     - IPython的內置函數，它用於在Jupyter Notebook環境中顯示Python 物件的圖形化表示或其他格式化輸出"
   ]
  },
  {
   "cell_type": "code",
   "execution_count": null,
   "metadata": {},
   "outputs": [
    {
     "name": "stdout",
     "output_type": "stream",
     "text": [
      "Training Data\n"
     ]
    },
    {
     "data": {
      "application/vnd.microsoft.datawrangler.viewer.v0+json": {
       "columns": [
        {
         "name": "index",
         "rawType": "object",
         "type": "string"
        },
        {
         "name": "Null Counts",
         "rawType": "int64",
         "type": "integer"
        }
       ],
       "conversionMethod": "pd.DataFrame",
       "ref": "bf987873-f94f-4f2e-8bb6-ee669b61ace2",
       "rows": [
        [
         "LotFrontage",
         "259"
        ],
        [
         "Alley",
         "1369"
        ],
        [
         "MasVnrType",
         "872"
        ],
        [
         "MasVnrArea",
         "8"
        ],
        [
         "BsmtQual",
         "37"
        ],
        [
         "BsmtCond",
         "37"
        ],
        [
         "BsmtExposure",
         "38"
        ],
        [
         "BsmtFinType1",
         "37"
        ],
        [
         "BsmtFinType2",
         "38"
        ],
        [
         "Electrical",
         "1"
        ],
        [
         "FireplaceQu",
         "690"
        ],
        [
         "GarageType",
         "81"
        ],
        [
         "GarageYrBlt",
         "81"
        ],
        [
         "GarageFinish",
         "81"
        ],
        [
         "GarageQual",
         "81"
        ],
        [
         "GarageCond",
         "81"
        ],
        [
         "PoolQC",
         "1453"
        ],
        [
         "Fence",
         "1179"
        ],
        [
         "MiscFeature",
         "1406"
        ]
       ],
       "shape": {
        "columns": 1,
        "rows": 19
       }
      },
      "text/html": [
       "<div>\n",
       "<style scoped>\n",
       "    .dataframe tbody tr th:only-of-type {\n",
       "        vertical-align: middle;\n",
       "    }\n",
       "\n",
       "    .dataframe tbody tr th {\n",
       "        vertical-align: top;\n",
       "    }\n",
       "\n",
       "    .dataframe thead th {\n",
       "        text-align: right;\n",
       "    }\n",
       "</style>\n",
       "<table border=\"1\" class=\"dataframe\">\n",
       "  <thead>\n",
       "    <tr style=\"text-align: right;\">\n",
       "      <th></th>\n",
       "      <th>Null Counts</th>\n",
       "    </tr>\n",
       "  </thead>\n",
       "  <tbody>\n",
       "    <tr>\n",
       "      <th>LotFrontage</th>\n",
       "      <td>259</td>\n",
       "    </tr>\n",
       "    <tr>\n",
       "      <th>Alley</th>\n",
       "      <td>1369</td>\n",
       "    </tr>\n",
       "    <tr>\n",
       "      <th>MasVnrType</th>\n",
       "      <td>872</td>\n",
       "    </tr>\n",
       "    <tr>\n",
       "      <th>MasVnrArea</th>\n",
       "      <td>8</td>\n",
       "    </tr>\n",
       "    <tr>\n",
       "      <th>BsmtQual</th>\n",
       "      <td>37</td>\n",
       "    </tr>\n",
       "    <tr>\n",
       "      <th>BsmtCond</th>\n",
       "      <td>37</td>\n",
       "    </tr>\n",
       "    <tr>\n",
       "      <th>BsmtExposure</th>\n",
       "      <td>38</td>\n",
       "    </tr>\n",
       "    <tr>\n",
       "      <th>BsmtFinType1</th>\n",
       "      <td>37</td>\n",
       "    </tr>\n",
       "    <tr>\n",
       "      <th>BsmtFinType2</th>\n",
       "      <td>38</td>\n",
       "    </tr>\n",
       "    <tr>\n",
       "      <th>Electrical</th>\n",
       "      <td>1</td>\n",
       "    </tr>\n",
       "    <tr>\n",
       "      <th>FireplaceQu</th>\n",
       "      <td>690</td>\n",
       "    </tr>\n",
       "    <tr>\n",
       "      <th>GarageType</th>\n",
       "      <td>81</td>\n",
       "    </tr>\n",
       "    <tr>\n",
       "      <th>GarageYrBlt</th>\n",
       "      <td>81</td>\n",
       "    </tr>\n",
       "    <tr>\n",
       "      <th>GarageFinish</th>\n",
       "      <td>81</td>\n",
       "    </tr>\n",
       "    <tr>\n",
       "      <th>GarageQual</th>\n",
       "      <td>81</td>\n",
       "    </tr>\n",
       "    <tr>\n",
       "      <th>GarageCond</th>\n",
       "      <td>81</td>\n",
       "    </tr>\n",
       "    <tr>\n",
       "      <th>PoolQC</th>\n",
       "      <td>1453</td>\n",
       "    </tr>\n",
       "    <tr>\n",
       "      <th>Fence</th>\n",
       "      <td>1179</td>\n",
       "    </tr>\n",
       "    <tr>\n",
       "      <th>MiscFeature</th>\n",
       "      <td>1406</td>\n",
       "    </tr>\n",
       "  </tbody>\n",
       "</table>\n",
       "</div>"
      ],
      "text/plain": [
       "              Null Counts\n",
       "LotFrontage           259\n",
       "Alley                1369\n",
       "MasVnrType            872\n",
       "MasVnrArea              8\n",
       "BsmtQual               37\n",
       "BsmtCond               37\n",
       "BsmtExposure           38\n",
       "BsmtFinType1           37\n",
       "BsmtFinType2           38\n",
       "Electrical              1\n",
       "FireplaceQu           690\n",
       "GarageType             81\n",
       "GarageYrBlt            81\n",
       "GarageFinish           81\n",
       "GarageQual             81\n",
       "GarageCond             81\n",
       "PoolQC               1453\n",
       "Fence                1179\n",
       "MiscFeature          1406"
      ]
     },
     "metadata": {},
     "output_type": "display_data"
    },
    {
     "name": "stdout",
     "output_type": "stream",
     "text": [
      "Test Data\n"
     ]
    },
    {
     "data": {
      "application/vnd.microsoft.datawrangler.viewer.v0+json": {
       "columns": [
        {
         "name": "index",
         "rawType": "object",
         "type": "string"
        },
        {
         "name": "Null Counts",
         "rawType": "int64",
         "type": "integer"
        }
       ],
       "conversionMethod": "pd.DataFrame",
       "ref": "b7aea3e7-46d8-4835-8d25-58bb7ae655d1",
       "rows": [
        [
         "MSZoning",
         "4"
        ],
        [
         "LotFrontage",
         "227"
        ],
        [
         "Alley",
         "1352"
        ],
        [
         "Utilities",
         "2"
        ],
        [
         "Exterior1st",
         "1"
        ],
        [
         "Exterior2nd",
         "1"
        ],
        [
         "MasVnrType",
         "894"
        ],
        [
         "MasVnrArea",
         "15"
        ],
        [
         "BsmtQual",
         "44"
        ],
        [
         "BsmtCond",
         "45"
        ],
        [
         "BsmtExposure",
         "44"
        ],
        [
         "BsmtFinType1",
         "42"
        ],
        [
         "BsmtFinSF1",
         "1"
        ],
        [
         "BsmtFinType2",
         "42"
        ],
        [
         "BsmtFinSF2",
         "1"
        ],
        [
         "BsmtUnfSF",
         "1"
        ],
        [
         "TotalBsmtSF",
         "1"
        ],
        [
         "BsmtFullBath",
         "2"
        ],
        [
         "BsmtHalfBath",
         "2"
        ],
        [
         "KitchenQual",
         "1"
        ],
        [
         "Functional",
         "2"
        ],
        [
         "FireplaceQu",
         "730"
        ],
        [
         "GarageType",
         "76"
        ],
        [
         "GarageYrBlt",
         "78"
        ],
        [
         "GarageFinish",
         "78"
        ],
        [
         "GarageCars",
         "1"
        ],
        [
         "GarageArea",
         "1"
        ],
        [
         "GarageQual",
         "78"
        ],
        [
         "GarageCond",
         "78"
        ],
        [
         "PoolQC",
         "1456"
        ],
        [
         "Fence",
         "1169"
        ],
        [
         "MiscFeature",
         "1408"
        ],
        [
         "SaleType",
         "1"
        ]
       ],
       "shape": {
        "columns": 1,
        "rows": 33
       }
      },
      "text/html": [
       "<div>\n",
       "<style scoped>\n",
       "    .dataframe tbody tr th:only-of-type {\n",
       "        vertical-align: middle;\n",
       "    }\n",
       "\n",
       "    .dataframe tbody tr th {\n",
       "        vertical-align: top;\n",
       "    }\n",
       "\n",
       "    .dataframe thead th {\n",
       "        text-align: right;\n",
       "    }\n",
       "</style>\n",
       "<table border=\"1\" class=\"dataframe\">\n",
       "  <thead>\n",
       "    <tr style=\"text-align: right;\">\n",
       "      <th></th>\n",
       "      <th>Null Counts</th>\n",
       "    </tr>\n",
       "  </thead>\n",
       "  <tbody>\n",
       "    <tr>\n",
       "      <th>MSZoning</th>\n",
       "      <td>4</td>\n",
       "    </tr>\n",
       "    <tr>\n",
       "      <th>LotFrontage</th>\n",
       "      <td>227</td>\n",
       "    </tr>\n",
       "    <tr>\n",
       "      <th>Alley</th>\n",
       "      <td>1352</td>\n",
       "    </tr>\n",
       "    <tr>\n",
       "      <th>Utilities</th>\n",
       "      <td>2</td>\n",
       "    </tr>\n",
       "    <tr>\n",
       "      <th>Exterior1st</th>\n",
       "      <td>1</td>\n",
       "    </tr>\n",
       "    <tr>\n",
       "      <th>Exterior2nd</th>\n",
       "      <td>1</td>\n",
       "    </tr>\n",
       "    <tr>\n",
       "      <th>MasVnrType</th>\n",
       "      <td>894</td>\n",
       "    </tr>\n",
       "    <tr>\n",
       "      <th>MasVnrArea</th>\n",
       "      <td>15</td>\n",
       "    </tr>\n",
       "    <tr>\n",
       "      <th>BsmtQual</th>\n",
       "      <td>44</td>\n",
       "    </tr>\n",
       "    <tr>\n",
       "      <th>BsmtCond</th>\n",
       "      <td>45</td>\n",
       "    </tr>\n",
       "    <tr>\n",
       "      <th>BsmtExposure</th>\n",
       "      <td>44</td>\n",
       "    </tr>\n",
       "    <tr>\n",
       "      <th>BsmtFinType1</th>\n",
       "      <td>42</td>\n",
       "    </tr>\n",
       "    <tr>\n",
       "      <th>BsmtFinSF1</th>\n",
       "      <td>1</td>\n",
       "    </tr>\n",
       "    <tr>\n",
       "      <th>BsmtFinType2</th>\n",
       "      <td>42</td>\n",
       "    </tr>\n",
       "    <tr>\n",
       "      <th>BsmtFinSF2</th>\n",
       "      <td>1</td>\n",
       "    </tr>\n",
       "    <tr>\n",
       "      <th>BsmtUnfSF</th>\n",
       "      <td>1</td>\n",
       "    </tr>\n",
       "    <tr>\n",
       "      <th>TotalBsmtSF</th>\n",
       "      <td>1</td>\n",
       "    </tr>\n",
       "    <tr>\n",
       "      <th>BsmtFullBath</th>\n",
       "      <td>2</td>\n",
       "    </tr>\n",
       "    <tr>\n",
       "      <th>BsmtHalfBath</th>\n",
       "      <td>2</td>\n",
       "    </tr>\n",
       "    <tr>\n",
       "      <th>KitchenQual</th>\n",
       "      <td>1</td>\n",
       "    </tr>\n",
       "    <tr>\n",
       "      <th>Functional</th>\n",
       "      <td>2</td>\n",
       "    </tr>\n",
       "    <tr>\n",
       "      <th>FireplaceQu</th>\n",
       "      <td>730</td>\n",
       "    </tr>\n",
       "    <tr>\n",
       "      <th>GarageType</th>\n",
       "      <td>76</td>\n",
       "    </tr>\n",
       "    <tr>\n",
       "      <th>GarageYrBlt</th>\n",
       "      <td>78</td>\n",
       "    </tr>\n",
       "    <tr>\n",
       "      <th>GarageFinish</th>\n",
       "      <td>78</td>\n",
       "    </tr>\n",
       "    <tr>\n",
       "      <th>GarageCars</th>\n",
       "      <td>1</td>\n",
       "    </tr>\n",
       "    <tr>\n",
       "      <th>GarageArea</th>\n",
       "      <td>1</td>\n",
       "    </tr>\n",
       "    <tr>\n",
       "      <th>GarageQual</th>\n",
       "      <td>78</td>\n",
       "    </tr>\n",
       "    <tr>\n",
       "      <th>GarageCond</th>\n",
       "      <td>78</td>\n",
       "    </tr>\n",
       "    <tr>\n",
       "      <th>PoolQC</th>\n",
       "      <td>1456</td>\n",
       "    </tr>\n",
       "    <tr>\n",
       "      <th>Fence</th>\n",
       "      <td>1169</td>\n",
       "    </tr>\n",
       "    <tr>\n",
       "      <th>MiscFeature</th>\n",
       "      <td>1408</td>\n",
       "    </tr>\n",
       "    <tr>\n",
       "      <th>SaleType</th>\n",
       "      <td>1</td>\n",
       "    </tr>\n",
       "  </tbody>\n",
       "</table>\n",
       "</div>"
      ],
      "text/plain": [
       "              Null Counts\n",
       "MSZoning                4\n",
       "LotFrontage           227\n",
       "Alley                1352\n",
       "Utilities               2\n",
       "Exterior1st             1\n",
       "Exterior2nd             1\n",
       "MasVnrType            894\n",
       "MasVnrArea             15\n",
       "BsmtQual               44\n",
       "BsmtCond               45\n",
       "BsmtExposure           44\n",
       "BsmtFinType1           42\n",
       "BsmtFinSF1              1\n",
       "BsmtFinType2           42\n",
       "BsmtFinSF2              1\n",
       "BsmtUnfSF               1\n",
       "TotalBsmtSF             1\n",
       "BsmtFullBath            2\n",
       "BsmtHalfBath            2\n",
       "KitchenQual             1\n",
       "Functional              2\n",
       "FireplaceQu           730\n",
       "GarageType             76\n",
       "GarageYrBlt            78\n",
       "GarageFinish           78\n",
       "GarageCars              1\n",
       "GarageArea              1\n",
       "GarageQual             78\n",
       "GarageCond             78\n",
       "PoolQC               1456\n",
       "Fence                1169\n",
       "MiscFeature          1408\n",
       "SaleType                1"
      ]
     },
     "metadata": {},
     "output_type": "display_data"
    }
   ],
   "source": [
    "pd.options.display.max_rows = 90\n",
    "df_train_null = pd.DataFrame(train_data.isnull().sum(), columns=['Null Counts'])\n",
    "df_test_null = pd.DataFrame(test_data.isnull().sum(), columns=['Null Counts'])\n",
    "print('Training Data')\n",
    "display(df_train_null[df_train_null['Null Counts'] != 0])\n",
    "print('Test Data')\n",
    "display(df_test_null[df_test_null['Null Counts'] != 0])"
   ]
  },
  {
   "cell_type": "markdown",
   "metadata": {},
   "source": [
    " - Correlation"
   ]
  },
  {
   "cell_type": "code",
   "execution_count": null,
   "metadata": {},
   "outputs": [
    {
     "data": {
      "application/vnd.microsoft.datawrangler.viewer.v0+json": {
       "columns": [
        {
         "name": "index",
         "rawType": "object",
         "type": "string"
        },
        {
         "name": "SalePrice",
         "rawType": "float64",
         "type": "float"
        }
       ],
       "conversionMethod": "pd.DataFrame",
       "ref": "ab022319-e642-4a01-af28-c6a2cc7ff483",
       "rows": [
        [
         "SalePrice",
         "1.0"
        ],
        [
         "OverallQual",
         "0.7909816005838053"
        ],
        [
         "GrLivArea",
         "0.7086244776126515"
        ],
        [
         "GarageCars",
         "0.6404091972583519"
        ],
        [
         "GarageArea",
         "0.6234314389183622"
        ],
        [
         "TotalBsmtSF",
         "0.6135805515591943"
        ],
        [
         "1stFlrSF",
         "0.6058521846919153"
        ],
        [
         "FullBath",
         "0.5606637627484453"
        ],
        [
         "TotRmsAbvGrd",
         "0.5337231555820284"
        ],
        [
         "YearBuilt",
         "0.5228973328794967"
        ],
        [
         "YearRemodAdd",
         "0.5071009671113866"
        ],
        [
         "GarageYrBlt",
         "0.4863616774878596"
        ],
        [
         "MasVnrArea",
         "0.47749304709571444"
        ],
        [
         "Fireplaces",
         "0.46692883675152763"
        ],
        [
         "BsmtFinSF1",
         "0.3864198062421535"
        ],
        [
         "LotFrontage",
         "0.35179909657067737"
        ],
        [
         "WoodDeckSF",
         "0.32441344456812926"
        ],
        [
         "2ndFlrSF",
         "0.31933380283206736"
        ],
        [
         "OpenPorchSF",
         "0.31585622711605504"
        ],
        [
         "HalfBath",
         "0.28410767559478256"
        ],
        [
         "LotArea",
         "0.2638433538714051"
        ],
        [
         "BsmtFullBath",
         "0.22712223313149427"
        ],
        [
         "BsmtUnfSF",
         "0.21447910554696928"
        ],
        [
         "BedroomAbvGr",
         "0.16821315430073963"
        ],
        [
         "ScreenPorch",
         "0.11144657114291112"
        ],
        [
         "PoolArea",
         "0.09240354949187318"
        ],
        [
         "MoSold",
         "0.046432245223819446"
        ],
        [
         "3SsnPorch",
         "0.04458366533574838"
        ],
        [
         "BsmtFinSF2",
         "-0.011378121450215146"
        ],
        [
         "BsmtHalfBath",
         "-0.01684415429735895"
        ],
        [
         "MiscVal",
         "-0.021189579640303213"
        ],
        [
         "Id",
         "-0.021916719443430967"
        ],
        [
         "LowQualFinSF",
         "-0.02560613000067955"
        ],
        [
         "YrSold",
         "-0.028922585168736813"
        ],
        [
         "OverallCond",
         "-0.07785589404867797"
        ],
        [
         "MSSubClass",
         "-0.08428413512659509"
        ],
        [
         "EnclosedPorch",
         "-0.1285779579259566"
        ],
        [
         "KitchenAbvGr",
         "-0.13590737084214105"
        ]
       ],
       "shape": {
        "columns": 1,
        "rows": 38
       }
      },
      "text/html": [
       "<div>\n",
       "<style scoped>\n",
       "    .dataframe tbody tr th:only-of-type {\n",
       "        vertical-align: middle;\n",
       "    }\n",
       "\n",
       "    .dataframe tbody tr th {\n",
       "        vertical-align: top;\n",
       "    }\n",
       "\n",
       "    .dataframe thead th {\n",
       "        text-align: right;\n",
       "    }\n",
       "</style>\n",
       "<table border=\"1\" class=\"dataframe\">\n",
       "  <thead>\n",
       "    <tr style=\"text-align: right;\">\n",
       "      <th></th>\n",
       "      <th>SalePrice</th>\n",
       "    </tr>\n",
       "  </thead>\n",
       "  <tbody>\n",
       "    <tr>\n",
       "      <th>SalePrice</th>\n",
       "      <td>1.000000</td>\n",
       "    </tr>\n",
       "    <tr>\n",
       "      <th>OverallQual</th>\n",
       "      <td>0.790982</td>\n",
       "    </tr>\n",
       "    <tr>\n",
       "      <th>GrLivArea</th>\n",
       "      <td>0.708624</td>\n",
       "    </tr>\n",
       "    <tr>\n",
       "      <th>GarageCars</th>\n",
       "      <td>0.640409</td>\n",
       "    </tr>\n",
       "    <tr>\n",
       "      <th>GarageArea</th>\n",
       "      <td>0.623431</td>\n",
       "    </tr>\n",
       "    <tr>\n",
       "      <th>TotalBsmtSF</th>\n",
       "      <td>0.613581</td>\n",
       "    </tr>\n",
       "    <tr>\n",
       "      <th>1stFlrSF</th>\n",
       "      <td>0.605852</td>\n",
       "    </tr>\n",
       "    <tr>\n",
       "      <th>FullBath</th>\n",
       "      <td>0.560664</td>\n",
       "    </tr>\n",
       "    <tr>\n",
       "      <th>TotRmsAbvGrd</th>\n",
       "      <td>0.533723</td>\n",
       "    </tr>\n",
       "    <tr>\n",
       "      <th>YearBuilt</th>\n",
       "      <td>0.522897</td>\n",
       "    </tr>\n",
       "    <tr>\n",
       "      <th>YearRemodAdd</th>\n",
       "      <td>0.507101</td>\n",
       "    </tr>\n",
       "    <tr>\n",
       "      <th>GarageYrBlt</th>\n",
       "      <td>0.486362</td>\n",
       "    </tr>\n",
       "    <tr>\n",
       "      <th>MasVnrArea</th>\n",
       "      <td>0.477493</td>\n",
       "    </tr>\n",
       "    <tr>\n",
       "      <th>Fireplaces</th>\n",
       "      <td>0.466929</td>\n",
       "    </tr>\n",
       "    <tr>\n",
       "      <th>BsmtFinSF1</th>\n",
       "      <td>0.386420</td>\n",
       "    </tr>\n",
       "    <tr>\n",
       "      <th>LotFrontage</th>\n",
       "      <td>0.351799</td>\n",
       "    </tr>\n",
       "    <tr>\n",
       "      <th>WoodDeckSF</th>\n",
       "      <td>0.324413</td>\n",
       "    </tr>\n",
       "    <tr>\n",
       "      <th>2ndFlrSF</th>\n",
       "      <td>0.319334</td>\n",
       "    </tr>\n",
       "    <tr>\n",
       "      <th>OpenPorchSF</th>\n",
       "      <td>0.315856</td>\n",
       "    </tr>\n",
       "    <tr>\n",
       "      <th>HalfBath</th>\n",
       "      <td>0.284108</td>\n",
       "    </tr>\n",
       "    <tr>\n",
       "      <th>LotArea</th>\n",
       "      <td>0.263843</td>\n",
       "    </tr>\n",
       "    <tr>\n",
       "      <th>BsmtFullBath</th>\n",
       "      <td>0.227122</td>\n",
       "    </tr>\n",
       "    <tr>\n",
       "      <th>BsmtUnfSF</th>\n",
       "      <td>0.214479</td>\n",
       "    </tr>\n",
       "    <tr>\n",
       "      <th>BedroomAbvGr</th>\n",
       "      <td>0.168213</td>\n",
       "    </tr>\n",
       "    <tr>\n",
       "      <th>ScreenPorch</th>\n",
       "      <td>0.111447</td>\n",
       "    </tr>\n",
       "    <tr>\n",
       "      <th>PoolArea</th>\n",
       "      <td>0.092404</td>\n",
       "    </tr>\n",
       "    <tr>\n",
       "      <th>MoSold</th>\n",
       "      <td>0.046432</td>\n",
       "    </tr>\n",
       "    <tr>\n",
       "      <th>3SsnPorch</th>\n",
       "      <td>0.044584</td>\n",
       "    </tr>\n",
       "    <tr>\n",
       "      <th>BsmtFinSF2</th>\n",
       "      <td>-0.011378</td>\n",
       "    </tr>\n",
       "    <tr>\n",
       "      <th>BsmtHalfBath</th>\n",
       "      <td>-0.016844</td>\n",
       "    </tr>\n",
       "    <tr>\n",
       "      <th>MiscVal</th>\n",
       "      <td>-0.021190</td>\n",
       "    </tr>\n",
       "    <tr>\n",
       "      <th>Id</th>\n",
       "      <td>-0.021917</td>\n",
       "    </tr>\n",
       "    <tr>\n",
       "      <th>LowQualFinSF</th>\n",
       "      <td>-0.025606</td>\n",
       "    </tr>\n",
       "    <tr>\n",
       "      <th>YrSold</th>\n",
       "      <td>-0.028923</td>\n",
       "    </tr>\n",
       "    <tr>\n",
       "      <th>OverallCond</th>\n",
       "      <td>-0.077856</td>\n",
       "    </tr>\n",
       "    <tr>\n",
       "      <th>MSSubClass</th>\n",
       "      <td>-0.084284</td>\n",
       "    </tr>\n",
       "    <tr>\n",
       "      <th>EnclosedPorch</th>\n",
       "      <td>-0.128578</td>\n",
       "    </tr>\n",
       "    <tr>\n",
       "      <th>KitchenAbvGr</th>\n",
       "      <td>-0.135907</td>\n",
       "    </tr>\n",
       "  </tbody>\n",
       "</table>\n",
       "</div>"
      ],
      "text/plain": [
       "               SalePrice\n",
       "SalePrice       1.000000\n",
       "OverallQual     0.790982\n",
       "GrLivArea       0.708624\n",
       "GarageCars      0.640409\n",
       "GarageArea      0.623431\n",
       "TotalBsmtSF     0.613581\n",
       "1stFlrSF        0.605852\n",
       "FullBath        0.560664\n",
       "TotRmsAbvGrd    0.533723\n",
       "YearBuilt       0.522897\n",
       "YearRemodAdd    0.507101\n",
       "GarageYrBlt     0.486362\n",
       "MasVnrArea      0.477493\n",
       "Fireplaces      0.466929\n",
       "BsmtFinSF1      0.386420\n",
       "LotFrontage     0.351799\n",
       "WoodDeckSF      0.324413\n",
       "2ndFlrSF        0.319334\n",
       "OpenPorchSF     0.315856\n",
       "HalfBath        0.284108\n",
       "LotArea         0.263843\n",
       "BsmtFullBath    0.227122\n",
       "BsmtUnfSF       0.214479\n",
       "BedroomAbvGr    0.168213\n",
       "ScreenPorch     0.111447\n",
       "PoolArea        0.092404\n",
       "MoSold          0.046432\n",
       "3SsnPorch       0.044584\n",
       "BsmtFinSF2     -0.011378\n",
       "BsmtHalfBath   -0.016844\n",
       "MiscVal        -0.021190\n",
       "Id             -0.021917\n",
       "LowQualFinSF   -0.025606\n",
       "YrSold         -0.028923\n",
       "OverallCond    -0.077856\n",
       "MSSubClass     -0.084284\n",
       "EnclosedPorch  -0.128578\n",
       "KitchenAbvGr   -0.135907"
      ]
     },
     "metadata": {},
     "output_type": "display_data"
    }
   ],
   "source": [
    "pd.options.display.max_columns = 50\n",
    "df_dtype = pd.DataFrame(train_data.dtypes, columns=['dtype'])\n",
    "df_corr = train_data[df_dtype[df_dtype['dtype'] != 'object'].index].corr()[['SalePrice']].sort_values(by='SalePrice', ascending=False)\n",
    "display(df_corr)\n",
    "# 會顯示所有的\n",
    "# df_corr = train_data[df_dtype[df_dtype['dtype'] != 'object'].index].corr().sort_values(by='SalePrice', ascending=False)\n",
    "# display(df_corr.style.background_gradient(axis=None))"
   ]
  },
  {
   "cell_type": "markdown",
   "metadata": {},
   "source": [
    " - Feature engineering\n",
    "     - [解說](https://www.kaggle.com/code/erikbruin/house-prices-lasso-xgboost-and-a-detailed-eda)"
   ]
  },
  {
   "cell_type": "code",
   "execution_count": null,
   "metadata": {},
   "outputs": [],
   "source": [
    "# Features used to modeling\n",
    "usefull_cols = ['OverallQual', 'GrLivArea', 'GarageArea', 'TotalBsmtSF'\n",
    "                , 'FullBath', 'YearBuilt', 'YearRemodAdd', 'Fireplaces'\n",
    "                ,'LotFrontage','WoodDeckSF','OpenPorchSF'\n",
    "                ,'ExterQual','KitchenQual','Neighborhood','MSZoning'\n",
    "                ,'Alley','LotShape','LandContour','Condition1','HouseStyle','MasVnrType','SaleCondition']\n",
    "df_train_usefull = train_data[usefull_cols].copy()\n",
    "df_test_usefull = test_data[usefull_cols].copy()"
   ]
  },
  {
   "cell_type": "code",
   "execution_count": null,
   "metadata": {},
   "outputs": [
    {
     "data": {
      "text/plain": [
       "OverallQual        int64\n",
       "GrLivArea          int64\n",
       "GarageArea         int64\n",
       "TotalBsmtSF        int64\n",
       "FullBath           int64\n",
       "YearBuilt          int64\n",
       "YearRemodAdd       int64\n",
       "Fireplaces         int64\n",
       "LotFrontage      float64\n",
       "WoodDeckSF         int64\n",
       "OpenPorchSF        int64\n",
       "ExterQual         object\n",
       "KitchenQual       object\n",
       "Neighborhood      object\n",
       "MSZoning          object\n",
       "Alley             object\n",
       "LotShape          object\n",
       "LandContour       object\n",
       "Condition1        object\n",
       "HouseStyle        object\n",
       "MasVnrType        object\n",
       "SaleCondition     object\n",
       "dtype: object"
      ]
     },
     "execution_count": 35,
     "metadata": {},
     "output_type": "execute_result"
    }
   ],
   "source": [
    "df_train_usefull.dtypes"
   ]
  },
  {
   "cell_type": "code",
   "execution_count": null,
   "metadata": {},
   "outputs": [
    {
     "data": {
      "application/vnd.microsoft.datawrangler.viewer.v0+json": {
       "columns": [
        {
         "name": "index",
         "rawType": "object",
         "type": "string"
        },
        {
         "name": "Null",
         "rawType": "float64",
         "type": "float"
        }
       ],
       "conversionMethod": "pd.DataFrame",
       "ref": "b58e4fa1-9940-44fe-b591-df030a46d8d2",
       "rows": [
        [
         "LotFrontage",
         "259.0"
        ],
        [
         "Alley",
         "1369.0"
        ],
        [
         "MasVnrType",
         "872.0"
        ]
       ],
       "shape": {
        "columns": 1,
        "rows": 3
       }
      },
      "text/html": [
       "<div>\n",
       "<style scoped>\n",
       "    .dataframe tbody tr th:only-of-type {\n",
       "        vertical-align: middle;\n",
       "    }\n",
       "\n",
       "    .dataframe tbody tr th {\n",
       "        vertical-align: top;\n",
       "    }\n",
       "\n",
       "    .dataframe thead th {\n",
       "        text-align: right;\n",
       "    }\n",
       "</style>\n",
       "<table border=\"1\" class=\"dataframe\">\n",
       "  <thead>\n",
       "    <tr style=\"text-align: right;\">\n",
       "      <th></th>\n",
       "      <th>Null</th>\n",
       "    </tr>\n",
       "  </thead>\n",
       "  <tbody>\n",
       "    <tr>\n",
       "      <th>LotFrontage</th>\n",
       "      <td>259.0</td>\n",
       "    </tr>\n",
       "    <tr>\n",
       "      <th>Alley</th>\n",
       "      <td>1369.0</td>\n",
       "    </tr>\n",
       "    <tr>\n",
       "      <th>MasVnrType</th>\n",
       "      <td>872.0</td>\n",
       "    </tr>\n",
       "  </tbody>\n",
       "</table>\n",
       "</div>"
      ],
      "text/plain": [
       "               Null\n",
       "LotFrontage   259.0\n",
       "Alley        1369.0\n",
       "MasVnrType    872.0"
      ]
     },
     "metadata": {},
     "output_type": "display_data"
    },
    {
     "data": {
      "application/vnd.microsoft.datawrangler.viewer.v0+json": {
       "columns": [
        {
         "name": "index",
         "rawType": "object",
         "type": "string"
        },
        {
         "name": "Null",
         "rawType": "float64",
         "type": "float"
        }
       ],
       "conversionMethod": "pd.DataFrame",
       "ref": "49113f57-7c47-4d82-9469-b269f557fe73",
       "rows": [
        [
         "GarageArea",
         "0.0"
        ],
        [
         "TotalBsmtSF",
         "0.0"
        ],
        [
         "LotFrontage",
         "259.0"
        ],
        [
         "KitchenQual",
         "0.0"
        ],
        [
         "MSZoning",
         "0.0"
        ],
        [
         "Alley",
         "1369.0"
        ],
        [
         "MasVnrType",
         "872.0"
        ]
       ],
       "shape": {
        "columns": 1,
        "rows": 7
       }
      },
      "text/html": [
       "<div>\n",
       "<style scoped>\n",
       "    .dataframe tbody tr th:only-of-type {\n",
       "        vertical-align: middle;\n",
       "    }\n",
       "\n",
       "    .dataframe tbody tr th {\n",
       "        vertical-align: top;\n",
       "    }\n",
       "\n",
       "    .dataframe thead th {\n",
       "        text-align: right;\n",
       "    }\n",
       "</style>\n",
       "<table border=\"1\" class=\"dataframe\">\n",
       "  <thead>\n",
       "    <tr style=\"text-align: right;\">\n",
       "      <th></th>\n",
       "      <th>Null</th>\n",
       "    </tr>\n",
       "  </thead>\n",
       "  <tbody>\n",
       "    <tr>\n",
       "      <th>GarageArea</th>\n",
       "      <td>0.0</td>\n",
       "    </tr>\n",
       "    <tr>\n",
       "      <th>TotalBsmtSF</th>\n",
       "      <td>0.0</td>\n",
       "    </tr>\n",
       "    <tr>\n",
       "      <th>LotFrontage</th>\n",
       "      <td>259.0</td>\n",
       "    </tr>\n",
       "    <tr>\n",
       "      <th>KitchenQual</th>\n",
       "      <td>0.0</td>\n",
       "    </tr>\n",
       "    <tr>\n",
       "      <th>MSZoning</th>\n",
       "      <td>0.0</td>\n",
       "    </tr>\n",
       "    <tr>\n",
       "      <th>Alley</th>\n",
       "      <td>1369.0</td>\n",
       "    </tr>\n",
       "    <tr>\n",
       "      <th>MasVnrType</th>\n",
       "      <td>872.0</td>\n",
       "    </tr>\n",
       "  </tbody>\n",
       "</table>\n",
       "</div>"
      ],
      "text/plain": [
       "               Null\n",
       "GarageArea      0.0\n",
       "TotalBsmtSF     0.0\n",
       "LotFrontage   259.0\n",
       "KitchenQual     0.0\n",
       "MSZoning        0.0\n",
       "Alley        1369.0\n",
       "MasVnrType    872.0"
      ]
     },
     "metadata": {},
     "output_type": "display_data"
    }
   ],
   "source": [
    "# Null Count\n",
    "df_train_usefull_null = pd.DataFrame(df_train_usefull.isnull().sum(), columns=['Null'])\n",
    "display(df_train_usefull_null[df_train_usefull_null != 0].dropna())\n",
    "\n",
    "df_test_usefull_null = pd.DataFrame(df_test_usefull.isnull().sum(), columns=['Null'])\n",
    "display(df_train_usefull_null[df_test_usefull_null != 0].dropna())"
   ]
  },
  {
   "cell_type": "code",
   "execution_count": null,
   "metadata": {},
   "outputs": [],
   "source": [
    "# 填充\n",
    "# 這邊注意是用 Training Data 去填充 Testing Data\n",
    "df_test_usefull['GarageArea'] = df_test_usefull['GarageArea'].fillna(df_train_usefull['GarageArea'].mean())\n",
    "df_test_usefull['TotalBsmtSF'] = df_test_usefull['TotalBsmtSF'].fillna(df_train_usefull['TotalBsmtSF'].mean())\n",
    "\n",
    "# 其他的是補零\n",
    "df_train_usefull['LotFrontage'] = df_train_usefull['LotFrontage'].fillna(0)\n",
    "df_test_usefull['LotFrontage'] = df_test_usefull['LotFrontage'].fillna(0)\n",
    "df_test_usefull['KitchenQual'] = df_test_usefull['KitchenQual'].fillna('TA')"
   ]
  },
  {
   "cell_type": "code",
   "execution_count": null,
   "metadata": {},
   "outputs": [],
   "source": [
    "# yeo-johnson\n",
    "for col in ['GrLivArea','GarageArea','WoodDeckSF','OpenPorchSF']:\n",
    "    PT = PowerTransformer(method='yeo-johnson')\n",
    "    PT.fit(df_train_usefull[[col]].values)\n",
    "    df_train_usefull[col] = PT.transform(df_train_usefull[[col]].values)\n",
    "    df_test_usefull[col] = PT.transform(df_test_usefull[[col]].values)\n",
    "\n",
    "# Standard\n",
    "for col in ['TotalBsmtSF','LotFrontage']:\n",
    "    SC = StandardScaler().fit(df_train_usefull[[col]].values)\n",
    "    df_train_usefull[col] = SC.transform(df_train_usefull[[col]].values)\n",
    "    df_test_usefull[col] = SC.transform(df_test_usefull[[col]].values)"
   ]
  },
  {
   "cell_type": "markdown",
   "metadata": {},
   "source": [
    " - `YearBuilt`\n",
    "     - Original construction date\n",
    " - `YearRemodAdd`\n",
    "     - Remodel date"
   ]
  },
  {
   "cell_type": "code",
   "execution_count": null,
   "metadata": {},
   "outputs": [],
   "source": [
    "# Create YearRemodAdd -  YearBuilt flag columns\n",
    "df_test_usefull['YearRemodAdd - YearBuilt'] = df_test_usefull['YearRemodAdd'] - df_test_usefull['YearBuilt']\n",
    "df_train_usefull['YearRemodAdd - YearBuilt'] = df_train_usefull['YearRemodAdd'] - df_train_usefull['YearBuilt']\n",
    "\n",
    "# Drop YearRemodAdd\n",
    "df_train_usefull = df_train_usefull.drop(columns=['YearRemodAdd'])\n",
    "df_test_usefull = df_test_usefull.drop(columns=['YearRemodAdd'])"
   ]
  },
  {
   "cell_type": "markdown",
   "metadata": {},
   "source": [
    " - `df_test_usefull['LotFrontage']`\n",
    "     - Series(一維)\n",
    "     - 適合做數值計算或對單一欄位操作\n",
    " - `df_test_usefull[['LotFrontage']]`\n",
    "     - DataFrame(二維)\n",
    "     - 適合後續當作表格處理，或一次選擇多個欄位"
   ]
  },
  {
   "cell_type": "code",
   "execution_count": null,
   "metadata": {},
   "outputs": [],
   "source": [
    "# One Hot\n",
    "need_ont_hot = ['Neighborhood','MSZoning','Alley','LotShape','LandContour','Condition1','HouseStyle','MasVnrType','SaleCondition']\n",
    "df_train_usefull = pd.get_dummies(\n",
    "    df_train_usefull,\n",
    "    columns=need_ont_hot\n",
    ")\n",
    "df_test_usefull = pd.get_dummies(\n",
    "    df_test_usefull,\n",
    "    columns=need_ont_hot\n",
    ")"
   ]
  },
  {
   "cell_type": "markdown",
   "metadata": {},
   "source": [
    " - `ExterQual` Evaluates the quality of the material on the exterior \n",
    "     - `Ex` Excellent\n",
    "     - `Gd` Good\n",
    "     - `TA` Average/Typical\n",
    "     - `Fa` Fair\n",
    "     - `Po` Poor\n",
    " - `KitchenQual` Kitchen quality\n",
    "     - same as ExterQual"
   ]
  },
  {
   "cell_type": "markdown",
   "metadata": {},
   "source": [
    " - Downcasting behavior in `replace` is deprecated\n",
    "     - 加上 `infer_objects(copy=False)` 來保留舊行為：\n",
    " - `.map`\n",
    "     - 只影響單行，不影響整個DataFrame"
   ]
  },
  {
   "cell_type": "code",
   "execution_count": null,
   "metadata": {},
   "outputs": [
    {
     "name": "stderr",
     "output_type": "stream",
     "text": [
      "C:\\Users\\wendy\\AppData\\Local\\Temp\\ipykernel_29748\\1047619113.py:3: FutureWarning: Downcasting behavior in `replace` is deprecated and will be removed in a future version. To retain the old behavior, explicitly call `result.infer_objects(copy=False)`. To opt-in to the future behavior, set `pd.set_option('future.no_silent_downcasting', True)`\n",
      "  df_train_usefull[col] = df_train_usefull[col].replace({'Ex':5, 'Gd':4, 'TA':3, 'Fa':2, 'Po':1}).infer_objects(copy=False)\n",
      "C:\\Users\\wendy\\AppData\\Local\\Temp\\ipykernel_29748\\1047619113.py:4: FutureWarning: Downcasting behavior in `replace` is deprecated and will be removed in a future version. To retain the old behavior, explicitly call `result.infer_objects(copy=False)`. To opt-in to the future behavior, set `pd.set_option('future.no_silent_downcasting', True)`\n",
      "  df_test_usefull[col] = df_test_usefull[col].replace({'Ex':5, 'Gd':4, 'TA':3, 'Fa':2, 'Po':1}).infer_objects(copy=False)\n"
     ]
    }
   ],
   "source": [
    "# Ordinal vals\n",
    "for col in ['ExterQual', 'KitchenQual']:\n",
    "    df_train_usefull[col] = df_train_usefull[col].replace({'Ex':5, 'Gd':4, 'TA':3, 'Fa':2, 'Po':1}).infer_objects(copy=False)\n",
    "    df_test_usefull[col] = df_test_usefull[col].replace({'Ex':5, 'Gd':4, 'TA':3, 'Fa':2, 'Po':1}).infer_objects(copy=False)\n"
   ]
  },
  {
   "cell_type": "code",
   "execution_count": null,
   "metadata": {},
   "outputs": [],
   "source": [
    "# 檢查\n",
    "# print(df_train_usefull.select_dtypes(include=['object'])) # 看object\n",
    "# print(df_train_usefull.isna().sum().sum())  # 總共多少 NaN\n",
    "# print(df_train_usefull.applymap(type).nunique())  # 檢查每欄是否有不同型別 # 1 -> OK # 2 -> 有兩種type\n",
    "\n",
    "# print(df_train_usefull.dtypes)  # 檢查 DataFrame \n"
   ]
  },
  {
   "cell_type": "code",
   "execution_count": null,
   "metadata": {},
   "outputs": [],
   "source": [
    "# Transform DataFrame to ndarray\n",
    "X_train = df_train_usefull.drop(columns='HouseStyle_2.5Fin').to_numpy().astype(np.float32)\n",
    "y_train = train_data[['SalePrice']].to_numpy()\n",
    "X_test = df_test_usefull.to_numpy().astype(np.float32)\n",
    "\n",
    "# ndarray to Tensor\n",
    "X_train = torch.tensor(X_train, dtype=torch.float32)\n",
    "y_train = torch.tensor(y_train, dtype=torch.float32)\n",
    "X_test = torch.tensor(X_test, dtype=torch.float32)"
   ]
  },
  {
   "cell_type": "markdown",
   "metadata": {},
   "source": [
    "## Build Model"
   ]
  },
  {
   "cell_type": "code",
   "execution_count": null,
   "metadata": {},
   "outputs": [
    {
     "name": "stdout",
     "output_type": "stream",
     "text": [
      "torch.Size([1460, 78])\n",
      "torch.Size([1459, 78])\n"
     ]
    }
   ],
   "source": [
    "print(X_train.shape)\n",
    "print(X_test.shape)"
   ]
  },
  {
   "cell_type": "markdown",
   "metadata": {},
   "source": [
    " - Mean Squared Log Error (MSLE)\n",
    "     - $\\text{MSLE}=\\frac1N\\sum^N_i(\\log_e(1+y_i)-\\log_e(1+\\hat y_i))^2$\n",
    " - `torch.log1p(x)`\n",
    "     - 得到log(1+x)"
   ]
  },
  {
   "cell_type": "code",
   "execution_count": null,
   "metadata": {},
   "outputs": [],
   "source": [
    "class Module(nn.Module):\n",
    "    def __init__(self, input_dim):\n",
    "        super(Module, self).__init__()\n",
    "        self.net = nn.Sequential(\n",
    "            nn.Linear(input_dim, 48),\n",
    "            nn.ReLU(),\n",
    "            nn.Dropout(),\n",
    "            nn.Linear(48, 32),\n",
    "            nn.ReLU(),\n",
    "            nn.Dropout(),\n",
    "            nn.Linear(32, 16),\n",
    "            nn.ReLU(),\n",
    "            nn.Dropout(),\n",
    "            nn.Linear(16, 1)\n",
    "        )\n",
    "    def forward(self, X):\n",
    "        return self.net(X)"
   ]
  },
  {
   "cell_type": "code",
   "execution_count": null,
   "metadata": {},
   "outputs": [],
   "source": [
    "# Hyper-parameter\n",
    "epochs = 500\n",
    "batch_size = 32\n",
    "k = 5"
   ]
  },
  {
   "cell_type": "code",
   "execution_count": null,
   "metadata": {},
   "outputs": [],
   "source": [
    "kf = KFold(n_splits=k, shuffle=True)"
   ]
  },
  {
   "cell_type": "code",
   "execution_count": null,
   "metadata": {},
   "outputs": [],
   "source": [
    "# 因為要用K-Fold，所以先不弄train_loader\n",
    "# train_loader = DataLoader(TensorDataset(X_train, y_train), batch_size=batch_size, shuffle=True)\n",
    "test_loader = DataLoader(X_test, batch_size=1)"
   ]
  },
  {
   "cell_type": "code",
   "execution_count": null,
   "metadata": {},
   "outputs": [],
   "source": [
    "model = Module(X_train.shape[1]).to(device)\n",
    "loss = nn.L1Loss()\n",
    "optimizer = Adam(model.parameters(), weight_decay=1e-4)\n",
    "history = {'loss':[], 'val_loss':[]}\n",
    "model_path = './model/'\n",
    "lowest_rmse = 1e9"
   ]
  },
  {
   "cell_type": "code",
   "execution_count": null,
   "metadata": {},
   "outputs": [
    {
     "name": "stdout",
     "output_type": "stream",
     "text": [
      "----------------------------------------------------------------\n",
      "        Layer (type)               Output Shape         Param #\n",
      "================================================================\n",
      "            Linear-1                   [-1, 48]           3,792\n",
      "              ReLU-2                   [-1, 48]               0\n",
      "           Dropout-3                   [-1, 48]               0\n",
      "            Linear-4                   [-1, 32]           1,568\n",
      "              ReLU-5                   [-1, 32]               0\n",
      "           Dropout-6                   [-1, 32]               0\n",
      "            Linear-7                   [-1, 16]             528\n",
      "              ReLU-8                   [-1, 16]               0\n",
      "           Dropout-9                   [-1, 16]               0\n",
      "           Linear-10                    [-1, 1]              17\n",
      "================================================================\n",
      "Total params: 5,905\n",
      "Trainable params: 5,905\n",
      "Non-trainable params: 0\n",
      "----------------------------------------------------------------\n",
      "Input size (MB): 0.00\n",
      "Forward/backward pass size (MB): 0.00\n",
      "Params size (MB): 0.02\n",
      "Estimated Total Size (MB): 0.03\n",
      "----------------------------------------------------------------\n"
     ]
    }
   ],
   "source": [
    "from torchsummary import summary\n",
    "summary(model, (X_train.shape[-1],))"
   ]
  },
  {
   "cell_type": "code",
   "execution_count": null,
   "metadata": {},
   "outputs": [
    {
     "name": "stdout",
     "output_type": "stream",
     "text": [
      "Epoch\t1\tRMSE:  391.9108, Val RMSE: 364.8548\n",
      "\u001b[33mSave\u001b[0m\n",
      "Epoch\t2\tRMSE:  279.8881, Val RMSE: 232.1379\n",
      "\u001b[33mSave\u001b[0m\n",
      "Epoch\t3\tRMSE:  276.9976, Val RMSE: 232.1472\n",
      "Epoch\t4\tRMSE:  274.6025, Val RMSE: 229.1144\n",
      "\u001b[33mSave\u001b[0m\n",
      "Epoch\t5\tRMSE:  273.1487, Val RMSE: 227.4874\n",
      "\u001b[33mSave\u001b[0m\n",
      "Epoch\t6\tRMSE:  273.0971, Val RMSE: 228.6163\n",
      "Epoch\t7\tRMSE:  272.3832, Val RMSE: 231.0419\n",
      "Epoch\t8\tRMSE:  271.3387, Val RMSE: 228.5181\n",
      "Epoch\t9\tRMSE:  269.4846, Val RMSE: 227.2398\n",
      "\u001b[33mSave\u001b[0m\n",
      "Epoch\t10\tRMSE:  268.8243, Val RMSE: 226.0451\n",
      "\u001b[33mSave\u001b[0m\n",
      "Epoch\t11\tRMSE:  271.0748, Val RMSE: 226.5091\n",
      "Epoch\t12\tRMSE:  272.3794, Val RMSE: 224.9553\n",
      "\u001b[33mSave\u001b[0m\n",
      "Epoch\t13\tRMSE:  269.7709, Val RMSE: 222.7534\n",
      "\u001b[33mSave\u001b[0m\n",
      "Epoch\t14\tRMSE:  267.9139, Val RMSE: 222.2947\n",
      "\u001b[33mSave\u001b[0m\n",
      "Epoch\t15\tRMSE:  269.0470, Val RMSE: 221.6022\n",
      "\u001b[33mSave\u001b[0m\n",
      "Epoch\t16\tRMSE:  266.6980, Val RMSE: 224.9250\n",
      "Epoch\t17\tRMSE:  269.5570, Val RMSE: 222.5199\n",
      "Epoch\t18\tRMSE:  267.5986, Val RMSE: 221.0692\n",
      "\u001b[33mSave\u001b[0m\n",
      "Epoch\t19\tRMSE:  268.0864, Val RMSE: 218.7372\n",
      "\u001b[33mSave\u001b[0m\n",
      "Epoch\t20\tRMSE:  265.7417, Val RMSE: 218.5873\n",
      "\u001b[33mSave\u001b[0m\n",
      "Epoch\t21\tRMSE:  267.8178, Val RMSE: 219.0015\n",
      "Epoch\t22\tRMSE:  264.8495, Val RMSE: 216.5941\n",
      "\u001b[33mSave\u001b[0m\n",
      "Epoch\t23\tRMSE:  264.5821, Val RMSE: 216.0013\n",
      "\u001b[33mSave\u001b[0m\n",
      "Epoch\t24\tRMSE:  265.1849, Val RMSE: 214.9494\n",
      "\u001b[33mSave\u001b[0m\n",
      "Epoch\t25\tRMSE:  263.1248, Val RMSE: 211.7802\n",
      "\u001b[33mSave\u001b[0m\n",
      "Epoch\t26\tRMSE:  264.4491, Val RMSE: 214.6733\n",
      "Epoch\t27\tRMSE:  263.2605, Val RMSE: 208.8476\n",
      "\u001b[33mSave\u001b[0m\n",
      "Epoch\t28\tRMSE:  264.3087, Val RMSE: 211.0506\n",
      "Epoch\t29\tRMSE:  260.7955, Val RMSE: 206.5189\n",
      "\u001b[33mSave\u001b[0m\n",
      "Epoch\t30\tRMSE:  260.5613, Val RMSE: 203.6626\n",
      "\u001b[33mSave\u001b[0m\n",
      "Epoch\t31\tRMSE:  260.9372, Val RMSE: 205.7549\n",
      "Epoch\t32\tRMSE:  254.7928, Val RMSE: 204.4822\n",
      "Epoch\t33\tRMSE:  255.2243, Val RMSE: 198.9793\n",
      "\u001b[33mSave\u001b[0m\n",
      "Epoch\t34\tRMSE:  256.1510, Val RMSE: 194.3702\n",
      "\u001b[33mSave\u001b[0m\n",
      "Epoch\t35\tRMSE:  251.4522, Val RMSE: 193.0570\n",
      "\u001b[33mSave\u001b[0m\n",
      "Epoch\t36\tRMSE:  252.4032, Val RMSE: 186.3156\n",
      "\u001b[33mSave\u001b[0m\n",
      "Epoch\t37\tRMSE:  247.9093, Val RMSE: 183.6342\n",
      "\u001b[33mSave\u001b[0m\n",
      "Epoch\t38\tRMSE:  246.6858, Val RMSE: 183.4249\n",
      "\u001b[33mSave\u001b[0m\n",
      "Epoch\t39\tRMSE:  246.1932, Val RMSE: 171.3859\n",
      "\u001b[33mSave\u001b[0m\n",
      "Epoch\t40\tRMSE:  243.9890, Val RMSE: 171.5475\n",
      "Epoch\t41\tRMSE:  245.5670, Val RMSE: 174.6089\n",
      "Epoch\t42\tRMSE:  243.0241, Val RMSE: 165.4107\n",
      "\u001b[33mSave\u001b[0m\n",
      "Epoch\t43\tRMSE:  243.5093, Val RMSE: 169.5465\n",
      "Epoch\t44\tRMSE:  245.3083, Val RMSE: 173.7731\n",
      "Epoch\t45\tRMSE:  243.8948, Val RMSE: 169.3374\n",
      "Epoch\t46\tRMSE:  243.2323, Val RMSE: 165.6948\n",
      "Epoch\t47\tRMSE:  244.9783, Val RMSE: 167.5932\n",
      "Epoch\t48\tRMSE:  242.2527, Val RMSE: 163.8801\n",
      "\u001b[33mSave\u001b[0m\n",
      "Epoch\t49\tRMSE:  240.7497, Val RMSE: 166.1247\n",
      "Epoch\t50\tRMSE:  242.2340, Val RMSE: 167.3327\n",
      "Epoch\t51\tRMSE:  243.4970, Val RMSE: 164.9771\n",
      "Epoch\t52\tRMSE:  243.2108, Val RMSE: 167.3722\n",
      "Epoch\t53\tRMSE:  240.3061, Val RMSE: 165.0231\n",
      "Epoch\t54\tRMSE:  241.5694, Val RMSE: 163.8759\n",
      "\u001b[33mSave\u001b[0m\n",
      "Epoch\t55\tRMSE:  241.7387, Val RMSE: 167.5717\n",
      "Epoch\t56\tRMSE:  241.8255, Val RMSE: 162.2463\n",
      "\u001b[33mSave\u001b[0m\n",
      "Epoch\t57\tRMSE:  240.4036, Val RMSE: 165.6415\n",
      "Epoch\t58\tRMSE:  242.0899, Val RMSE: 168.5358\n",
      "Epoch\t59\tRMSE:  241.3343, Val RMSE: 164.9790\n",
      "Epoch\t60\tRMSE:  239.7203, Val RMSE: 166.2694\n",
      "Epoch\t61\tRMSE:  236.9468, Val RMSE: 161.6531\n",
      "\u001b[33mSave\u001b[0m\n",
      "Epoch\t62\tRMSE:  241.3912, Val RMSE: 159.8428\n",
      "\u001b[33mSave\u001b[0m\n",
      "Epoch\t63\tRMSE:  238.8609, Val RMSE: 160.2145\n",
      "Epoch\t64\tRMSE:  239.8691, Val RMSE: 162.0264\n",
      "Epoch\t65\tRMSE:  239.6459, Val RMSE: 168.0094\n",
      "Epoch\t66\tRMSE:  236.6695, Val RMSE: 161.3652\n",
      "Epoch\t67\tRMSE:  240.7792, Val RMSE: 164.4259\n",
      "Epoch\t68\tRMSE:  236.0735, Val RMSE: 160.0664\n",
      "Epoch\t69\tRMSE:  238.8166, Val RMSE: 161.8974\n",
      "Epoch\t70\tRMSE:  239.4739, Val RMSE: 164.2309\n",
      "Epoch\t71\tRMSE:  238.5651, Val RMSE: 164.9188\n",
      "Epoch\t72\tRMSE:  239.0130, Val RMSE: 163.0771\n",
      "Epoch\t73\tRMSE:  235.5295, Val RMSE: 163.9041\n",
      "Epoch\t74\tRMSE:  236.0827, Val RMSE: 160.3136\n",
      "Epoch\t75\tRMSE:  237.4969, Val RMSE: 160.9270\n",
      "Epoch\t76\tRMSE:  235.8878, Val RMSE: 158.5589\n",
      "\u001b[33mSave\u001b[0m\n",
      "Epoch\t77\tRMSE:  237.7412, Val RMSE: 156.5646\n",
      "\u001b[33mSave\u001b[0m\n",
      "Epoch\t78\tRMSE:  236.5642, Val RMSE: 157.5836\n",
      "Epoch\t79\tRMSE:  238.5665, Val RMSE: 157.8346\n",
      "Epoch\t80\tRMSE:  237.8929, Val RMSE: 156.0792\n",
      "\u001b[33mSave\u001b[0m\n",
      "Epoch\t81\tRMSE:  234.7736, Val RMSE: 158.1014\n",
      "Epoch\t82\tRMSE:  236.8319, Val RMSE: 163.0784\n",
      "Epoch\t83\tRMSE:  238.9357, Val RMSE: 151.7726\n",
      "\u001b[33mSave\u001b[0m\n",
      "Epoch\t84\tRMSE:  236.8668, Val RMSE: 165.4367\n",
      "Epoch\t85\tRMSE:  234.1427, Val RMSE: 158.2683\n",
      "Epoch\t86\tRMSE:  235.9751, Val RMSE: 156.6968\n",
      "Epoch\t87\tRMSE:  235.4692, Val RMSE: 153.0370\n",
      "Epoch\t88\tRMSE:  236.3058, Val RMSE: 162.1494\n",
      "Epoch\t89\tRMSE:  239.4900, Val RMSE: 158.7336\n",
      "Epoch\t90\tRMSE:  237.5590, Val RMSE: 164.7605\n",
      "Epoch\t91\tRMSE:  235.0031, Val RMSE: 155.2023\n",
      "Epoch\t92\tRMSE:  236.0663, Val RMSE: 152.6478\n",
      "Epoch\t93\tRMSE:  237.2490, Val RMSE: 159.2713\n",
      "Epoch\t94\tRMSE:  235.1920, Val RMSE: 160.9155\n",
      "Epoch\t95\tRMSE:  235.9273, Val RMSE: 159.1729\n",
      "Epoch\t96\tRMSE:  233.7928, Val RMSE: 156.9792\n",
      "Epoch\t97\tRMSE:  234.8002, Val RMSE: 164.3605\n",
      "Epoch\t98\tRMSE:  236.5524, Val RMSE: 155.6755\n",
      "Epoch\t99\tRMSE:  234.6703, Val RMSE: 161.7554\n",
      "Epoch\t100\tRMSE:  234.1724, Val RMSE: 163.6384\n",
      "Epoch\t101\tRMSE:  234.9521, Val RMSE: 163.0902\n",
      "Epoch\t102\tRMSE:  234.6891, Val RMSE: 157.5264\n",
      "Epoch\t103\tRMSE:  233.8383, Val RMSE: 156.6528\n",
      "Epoch\t104\tRMSE:  234.9232, Val RMSE: 154.6418\n",
      "Epoch\t105\tRMSE:  233.1913, Val RMSE: 152.4158\n",
      "Epoch\t106\tRMSE:  234.8848, Val RMSE: 155.1468\n",
      "Epoch\t107\tRMSE:  235.1738, Val RMSE: 153.0473\n",
      "Epoch\t108\tRMSE:  232.8422, Val RMSE: 156.9579\n",
      "Epoch\t109\tRMSE:  234.3868, Val RMSE: 156.9711\n",
      "Epoch\t110\tRMSE:  232.9359, Val RMSE: 151.8057\n",
      "Epoch\t111\tRMSE:  232.7224, Val RMSE: 161.2636\n",
      "Epoch\t112\tRMSE:  234.7076, Val RMSE: 163.9537\n",
      "Epoch\t113\tRMSE:  233.8530, Val RMSE: 160.3124\n",
      "Epoch\t114\tRMSE:  234.0655, Val RMSE: 161.9960\n",
      "Epoch\t115\tRMSE:  234.8026, Val RMSE: 155.6990\n",
      "Epoch\t116\tRMSE:  233.4067, Val RMSE: 161.9367\n",
      "Epoch\t117\tRMSE:  231.1582, Val RMSE: 153.2688\n",
      "Epoch\t118\tRMSE:  233.2166, Val RMSE: 161.7284\n",
      "Epoch\t119\tRMSE:  235.0447, Val RMSE: 152.5048\n",
      "Epoch\t120\tRMSE:  232.4243, Val RMSE: 150.7485\n",
      "\u001b[33mSave\u001b[0m\n",
      "Epoch\t121\tRMSE:  232.3973, Val RMSE: 156.9401\n",
      "Epoch\t122\tRMSE:  234.4436, Val RMSE: 149.8141\n",
      "\u001b[33mSave\u001b[0m\n",
      "Epoch\t123\tRMSE:  231.9200, Val RMSE: 151.4504\n",
      "Epoch\t124\tRMSE:  234.8771, Val RMSE: 156.7227\n",
      "Epoch\t125\tRMSE:  231.3435, Val RMSE: 152.1193\n",
      "Epoch\t126\tRMSE:  232.4220, Val RMSE: 162.3786\n",
      "Epoch\t127\tRMSE:  235.2357, Val RMSE: 153.9896\n",
      "Epoch\t128\tRMSE:  235.2838, Val RMSE: 154.9971\n",
      "Epoch\t129\tRMSE:  234.6465, Val RMSE: 150.2873\n",
      "Epoch\t130\tRMSE:  233.5509, Val RMSE: 162.7565\n",
      "Epoch\t131\tRMSE:  232.9889, Val RMSE: 152.0372\n",
      "Epoch\t132\tRMSE:  235.9844, Val RMSE: 152.5537\n",
      "Epoch\t133\tRMSE:  233.1251, Val RMSE: 157.1157\n",
      "Epoch\t134\tRMSE:  234.2267, Val RMSE: 158.3641\n",
      "Epoch\t135\tRMSE:  235.6147, Val RMSE: 152.8892\n",
      "Epoch\t136\tRMSE:  235.6250, Val RMSE: 151.6075\n",
      "Epoch\t137\tRMSE:  231.6743, Val RMSE: 149.2968\n",
      "\u001b[33mSave\u001b[0m\n",
      "Epoch\t138\tRMSE:  234.9167, Val RMSE: 152.4078\n",
      "Epoch\t139\tRMSE:  233.3467, Val RMSE: 158.0525\n",
      "Epoch\t140\tRMSE:  232.0994, Val RMSE: 147.0459\n",
      "\u001b[33mSave\u001b[0m\n",
      "Epoch\t141\tRMSE:  232.5629, Val RMSE: 158.4733\n",
      "Epoch\t142\tRMSE:  231.4391, Val RMSE: 157.6528\n",
      "Epoch\t143\tRMSE:  234.1828, Val RMSE: 155.6538\n",
      "Epoch\t144\tRMSE:  231.9942, Val RMSE: 154.7633\n",
      "Epoch\t145\tRMSE:  234.0206, Val RMSE: 151.8740\n",
      "Epoch\t146\tRMSE:  232.6584, Val RMSE: 152.2871\n",
      "Epoch\t147\tRMSE:  231.3485, Val RMSE: 160.4708\n",
      "Epoch\t148\tRMSE:  232.6144, Val RMSE: 158.7400\n",
      "Epoch\t149\tRMSE:  232.1410, Val RMSE: 158.7441\n",
      "Epoch\t150\tRMSE:  231.8676, Val RMSE: 153.8318\n",
      "Epoch\t151\tRMSE:  233.3205, Val RMSE: 156.5945\n",
      "Epoch\t152\tRMSE:  232.0063, Val RMSE: 151.0922\n",
      "Epoch\t153\tRMSE:  232.9923, Val RMSE: 147.0506\n",
      "Epoch\t154\tRMSE:  232.7130, Val RMSE: 151.8638\n",
      "Epoch\t155\tRMSE:  234.1888, Val RMSE: 163.6116\n",
      "Epoch\t156\tRMSE:  233.9748, Val RMSE: 158.0401\n",
      "Epoch\t157\tRMSE:  232.3709, Val RMSE: 147.6870\n",
      "Epoch\t158\tRMSE:  230.1105, Val RMSE: 155.4143\n",
      "Epoch\t159\tRMSE:  232.9135, Val RMSE: 153.6767\n",
      "Epoch\t160\tRMSE:  234.7355, Val RMSE: 153.0228\n",
      "Epoch\t161\tRMSE:  231.6265, Val RMSE: 149.2828\n",
      "Epoch\t162\tRMSE:  231.0674, Val RMSE: 156.9833\n",
      "Epoch\t163\tRMSE:  232.2204, Val RMSE: 151.7004\n",
      "Epoch\t164\tRMSE:  233.8270, Val RMSE: 153.1455\n",
      "Epoch\t165\tRMSE:  232.8212, Val RMSE: 156.8042\n",
      "Epoch\t166\tRMSE:  231.2046, Val RMSE: 157.2016\n",
      "Epoch\t167\tRMSE:  232.5455, Val RMSE: 153.1053\n",
      "Epoch\t168\tRMSE:  230.7588, Val RMSE: 151.5661\n",
      "Epoch\t169\tRMSE:  232.7436, Val RMSE: 150.4985\n",
      "Epoch\t170\tRMSE:  231.3458, Val RMSE: 150.3346\n",
      "Epoch\t171\tRMSE:  230.3103, Val RMSE: 144.4226\n",
      "\u001b[33mSave\u001b[0m\n",
      "Epoch\t172\tRMSE:  230.7790, Val RMSE: 155.8650\n",
      "Epoch\t173\tRMSE:  230.1594, Val RMSE: 150.3784\n",
      "Epoch\t174\tRMSE:  228.8989, Val RMSE: 150.1965\n",
      "Epoch\t175\tRMSE:  231.9821, Val RMSE: 156.7380\n",
      "Epoch\t176\tRMSE:  234.8790, Val RMSE: 149.5860\n",
      "Epoch\t177\tRMSE:  232.2816, Val RMSE: 157.7566\n",
      "Epoch\t178\tRMSE:  232.2986, Val RMSE: 150.5150\n",
      "Epoch\t179\tRMSE:  233.6187, Val RMSE: 149.4022\n",
      "Epoch\t180\tRMSE:  232.1550, Val RMSE: 152.3058\n",
      "Epoch\t181\tRMSE:  233.7766, Val RMSE: 149.6123\n",
      "Epoch\t182\tRMSE:  232.3831, Val RMSE: 150.9950\n",
      "Epoch\t183\tRMSE:  230.5987, Val RMSE: 155.3897\n",
      "Epoch\t184\tRMSE:  232.4618, Val RMSE: 150.0242\n",
      "Epoch\t185\tRMSE:  231.9785, Val RMSE: 151.9930\n",
      "Epoch\t186\tRMSE:  230.1369, Val RMSE: 155.1116\n",
      "Epoch\t187\tRMSE:  231.8110, Val RMSE: 157.5221\n",
      "Epoch\t188\tRMSE:  231.1197, Val RMSE: 157.8994\n",
      "Epoch\t189\tRMSE:  230.7902, Val RMSE: 148.0267\n",
      "Epoch\t190\tRMSE:  229.9656, Val RMSE: 148.9115\n",
      "Epoch\t191\tRMSE:  230.0730, Val RMSE: 152.2723\n",
      "Epoch\t192\tRMSE:  232.6961, Val RMSE: 147.3789\n",
      "Epoch\t193\tRMSE:  231.2529, Val RMSE: 151.7200\n",
      "Epoch\t194\tRMSE:  231.4924, Val RMSE: 154.7322\n",
      "Epoch\t195\tRMSE:  229.7549, Val RMSE: 148.1336\n",
      "Epoch\t196\tRMSE:  233.4704, Val RMSE: 154.7866\n",
      "Epoch\t197\tRMSE:  229.3623, Val RMSE: 160.4423\n",
      "Epoch\t198\tRMSE:  230.6194, Val RMSE: 157.4035\n",
      "Epoch\t199\tRMSE:  230.1595, Val RMSE: 156.6770\n",
      "Epoch\t200\tRMSE:  232.4795, Val RMSE: 155.9364\n",
      "Epoch\t201\tRMSE:  232.3361, Val RMSE: 165.8367\n",
      "Epoch\t202\tRMSE:  231.8049, Val RMSE: 150.4143\n",
      "Epoch\t203\tRMSE:  231.0600, Val RMSE: 155.8034\n",
      "Epoch\t204\tRMSE:  232.7072, Val RMSE: 155.1183\n",
      "Epoch\t205\tRMSE:  230.8385, Val RMSE: 152.9100\n",
      "Epoch\t206\tRMSE:  230.3833, Val RMSE: 151.9267\n",
      "Epoch\t207\tRMSE:  232.1266, Val RMSE: 157.9191\n",
      "Epoch\t208\tRMSE:  231.6662, Val RMSE: 160.0449\n",
      "Epoch\t209\tRMSE:  232.9619, Val RMSE: 148.1573\n",
      "Epoch\t210\tRMSE:  231.9090, Val RMSE: 146.1581\n",
      "Epoch\t211\tRMSE:  232.2723, Val RMSE: 150.1310\n",
      "Epoch\t212\tRMSE:  230.9535, Val RMSE: 149.3222\n",
      "Epoch\t213\tRMSE:  229.7797, Val RMSE: 148.1035\n",
      "Epoch\t214\tRMSE:  231.9939, Val RMSE: 149.5175\n",
      "Epoch\t215\tRMSE:  231.9281, Val RMSE: 155.0073\n",
      "Epoch\t216\tRMSE:  230.3488, Val RMSE: 147.9328\n",
      "Epoch\t217\tRMSE:  233.1507, Val RMSE: 148.9144\n",
      "Epoch\t218\tRMSE:  229.7451, Val RMSE: 144.4090\n",
      "\u001b[33mSave\u001b[0m\n",
      "Epoch\t219\tRMSE:  228.6631, Val RMSE: 151.2044\n",
      "Epoch\t220\tRMSE:  231.4391, Val RMSE: 149.8758\n",
      "Epoch\t221\tRMSE:  230.3573, Val RMSE: 152.8674\n",
      "Epoch\t222\tRMSE:  232.6634, Val RMSE: 147.1373\n",
      "Epoch\t223\tRMSE:  230.4142, Val RMSE: 145.6219\n",
      "Epoch\t224\tRMSE:  231.3259, Val RMSE: 147.1081\n",
      "Epoch\t225\tRMSE:  232.1893, Val RMSE: 157.2337\n",
      "Epoch\t226\tRMSE:  231.5799, Val RMSE: 145.9473\n",
      "Epoch\t227\tRMSE:  233.8531, Val RMSE: 146.7767\n",
      "Epoch\t228\tRMSE:  232.3216, Val RMSE: 151.4907\n",
      "Epoch\t229\tRMSE:  232.5253, Val RMSE: 148.8737\n",
      "Epoch\t230\tRMSE:  230.8068, Val RMSE: 151.8105\n",
      "Epoch\t231\tRMSE:  231.6311, Val RMSE: 152.2243\n",
      "Epoch\t232\tRMSE:  230.8162, Val RMSE: 147.0030\n",
      "Epoch\t233\tRMSE:  227.3631, Val RMSE: 150.9073\n",
      "Epoch\t234\tRMSE:  229.3339, Val RMSE: 155.1384\n",
      "Epoch\t235\tRMSE:  230.4651, Val RMSE: 144.2556\n",
      "\u001b[33mSave\u001b[0m\n",
      "Epoch\t236\tRMSE:  228.9281, Val RMSE: 146.8594\n",
      "Epoch\t237\tRMSE:  232.4072, Val RMSE: 156.6971\n",
      "Epoch\t238\tRMSE:  229.9275, Val RMSE: 151.9657\n",
      "Epoch\t239\tRMSE:  232.3210, Val RMSE: 155.7289\n",
      "Epoch\t240\tRMSE:  229.7682, Val RMSE: 150.8407\n",
      "Epoch\t241\tRMSE:  229.5130, Val RMSE: 151.1388\n",
      "Epoch\t242\tRMSE:  232.1298, Val RMSE: 154.7998\n",
      "Epoch\t243\tRMSE:  231.3101, Val RMSE: 152.2086\n",
      "Epoch\t244\tRMSE:  231.9607, Val RMSE: 152.5932\n",
      "Epoch\t245\tRMSE:  231.1091, Val RMSE: 149.7229\n",
      "Epoch\t246\tRMSE:  232.3371, Val RMSE: 147.4265\n",
      "Epoch\t247\tRMSE:  231.9902, Val RMSE: 152.5154\n",
      "Epoch\t248\tRMSE:  228.4743, Val RMSE: 151.6477\n",
      "Epoch\t249\tRMSE:  231.3562, Val RMSE: 151.7682\n",
      "Epoch\t250\tRMSE:  229.4715, Val RMSE: 155.3902\n",
      "Epoch\t251\tRMSE:  231.0691, Val RMSE: 143.3045\n",
      "\u001b[33mSave\u001b[0m\n",
      "Epoch\t252\tRMSE:  231.2432, Val RMSE: 147.3311\n",
      "Epoch\t253\tRMSE:  230.2107, Val RMSE: 150.4890\n",
      "Epoch\t254\tRMSE:  231.2664, Val RMSE: 147.0447\n",
      "Epoch\t255\tRMSE:  231.2834, Val RMSE: 150.1941\n",
      "Epoch\t256\tRMSE:  229.7496, Val RMSE: 149.0613\n",
      "Epoch\t257\tRMSE:  229.7984, Val RMSE: 158.1595\n",
      "Epoch\t258\tRMSE:  230.9025, Val RMSE: 145.7665\n",
      "Epoch\t259\tRMSE:  230.1854, Val RMSE: 159.3044\n",
      "Epoch\t260\tRMSE:  234.2001, Val RMSE: 149.3115\n",
      "Epoch\t261\tRMSE:  230.8451, Val RMSE: 152.3633\n",
      "Epoch\t262\tRMSE:  231.1470, Val RMSE: 142.9956\n",
      "\u001b[33mSave\u001b[0m\n",
      "Epoch\t263\tRMSE:  230.9577, Val RMSE: 143.1343\n",
      "Epoch\t264\tRMSE:  229.6677, Val RMSE: 147.6443\n",
      "Epoch\t265\tRMSE:  231.5853, Val RMSE: 145.1478\n",
      "Epoch\t266\tRMSE:  230.0193, Val RMSE: 149.7125\n",
      "Epoch\t267\tRMSE:  231.5178, Val RMSE: 149.0301\n",
      "Epoch\t268\tRMSE:  230.9011, Val RMSE: 146.3565\n",
      "Epoch\t269\tRMSE:  231.3915, Val RMSE: 149.8345\n",
      "Epoch\t270\tRMSE:  232.6399, Val RMSE: 151.8574\n",
      "Epoch\t271\tRMSE:  230.7669, Val RMSE: 154.2060\n",
      "Epoch\t272\tRMSE:  230.2503, Val RMSE: 146.1637\n",
      "Epoch\t273\tRMSE:  231.4041, Val RMSE: 140.6892\n",
      "\u001b[33mSave\u001b[0m\n",
      "Epoch\t274\tRMSE:  230.9223, Val RMSE: 148.6338\n",
      "Epoch\t275\tRMSE:  230.9897, Val RMSE: 147.9202\n",
      "Epoch\t276\tRMSE:  232.5759, Val RMSE: 148.6004\n",
      "Epoch\t277\tRMSE:  232.4836, Val RMSE: 164.2898\n",
      "Epoch\t278\tRMSE:  229.7047, Val RMSE: 150.7640\n",
      "Epoch\t279\tRMSE:  230.2746, Val RMSE: 154.1286\n",
      "Epoch\t280\tRMSE:  230.5195, Val RMSE: 148.6652\n",
      "Epoch\t281\tRMSE:  232.1125, Val RMSE: 158.5612\n",
      "Epoch\t282\tRMSE:  230.4742, Val RMSE: 155.1876\n",
      "Epoch\t283\tRMSE:  229.5828, Val RMSE: 151.8048\n",
      "Epoch\t284\tRMSE:  229.8043, Val RMSE: 149.5220\n",
      "Epoch\t285\tRMSE:  231.6430, Val RMSE: 158.6035\n",
      "Epoch\t286\tRMSE:  231.9262, Val RMSE: 153.6957\n",
      "Epoch\t287\tRMSE:  232.1693, Val RMSE: 151.2000\n",
      "Epoch\t288\tRMSE:  232.8565, Val RMSE: 153.5166\n",
      "Epoch\t289\tRMSE:  232.5536, Val RMSE: 156.2553\n",
      "Epoch\t290\tRMSE:  231.3326, Val RMSE: 150.4636\n",
      "Epoch\t291\tRMSE:  230.9041, Val RMSE: 145.0838\n",
      "Epoch\t292\tRMSE:  230.0350, Val RMSE: 157.2805\n",
      "Epoch\t293\tRMSE:  230.4608, Val RMSE: 155.1758\n",
      "Epoch\t294\tRMSE:  231.2712, Val RMSE: 151.3008\n",
      "Epoch\t295\tRMSE:  231.7494, Val RMSE: 148.8557\n",
      "Epoch\t296\tRMSE:  230.0436, Val RMSE: 138.7974\n",
      "\u001b[33mSave\u001b[0m\n",
      "Epoch\t297\tRMSE:  231.7890, Val RMSE: 149.4822\n",
      "Epoch\t298\tRMSE:  229.4342, Val RMSE: 141.8481\n",
      "Epoch\t299\tRMSE:  230.8388, Val RMSE: 153.3785\n",
      "Epoch\t300\tRMSE:  230.0145, Val RMSE: 145.9959\n",
      "Epoch\t301\tRMSE:  229.7521, Val RMSE: 149.2480\n",
      "Epoch\t302\tRMSE:  230.4836, Val RMSE: 151.4273\n",
      "Epoch\t303\tRMSE:  230.8946, Val RMSE: 149.7791\n",
      "Epoch\t304\tRMSE:  229.6795, Val RMSE: 147.6842\n",
      "Epoch\t305\tRMSE:  233.3348, Val RMSE: 150.8671\n",
      "Epoch\t306\tRMSE:  229.0955, Val RMSE: 153.0432\n",
      "Epoch\t307\tRMSE:  230.7517, Val RMSE: 156.9575\n",
      "Epoch\t308\tRMSE:  229.2198, Val RMSE: 149.6609\n",
      "Epoch\t309\tRMSE:  230.2342, Val RMSE: 152.7804\n",
      "Epoch\t310\tRMSE:  230.5035, Val RMSE: 153.9854\n",
      "Epoch\t311\tRMSE:  230.9415, Val RMSE: 150.5951\n",
      "Epoch\t312\tRMSE:  232.3323, Val RMSE: 154.1391\n",
      "Epoch\t313\tRMSE:  229.0469, Val RMSE: 142.3343\n",
      "Epoch\t314\tRMSE:  230.1852, Val RMSE: 150.2643\n",
      "Epoch\t315\tRMSE:  232.1878, Val RMSE: 149.6124\n",
      "Epoch\t316\tRMSE:  230.1120, Val RMSE: 148.6645\n",
      "Epoch\t317\tRMSE:  229.8347, Val RMSE: 143.2899\n",
      "Epoch\t318\tRMSE:  231.7969, Val RMSE: 157.5479\n",
      "Epoch\t319\tRMSE:  230.3058, Val RMSE: 139.9451\n",
      "Epoch\t320\tRMSE:  227.9052, Val RMSE: 152.2903\n",
      "Epoch\t321\tRMSE:  229.3424, Val RMSE: 151.4359\n",
      "Epoch\t322\tRMSE:  230.8794, Val RMSE: 152.0364\n",
      "Epoch\t323\tRMSE:  230.7918, Val RMSE: 154.5895\n",
      "Epoch\t324\tRMSE:  230.1755, Val RMSE: 151.1554\n",
      "Epoch\t325\tRMSE:  229.2962, Val RMSE: 154.4518\n",
      "Epoch\t326\tRMSE:  231.8514, Val RMSE: 149.2952\n",
      "Epoch\t327\tRMSE:  231.9241, Val RMSE: 146.4793\n",
      "Epoch\t328\tRMSE:  231.0829, Val RMSE: 153.2434\n",
      "Epoch\t329\tRMSE:  230.1255, Val RMSE: 147.5467\n",
      "Epoch\t330\tRMSE:  229.4285, Val RMSE: 144.9371\n",
      "Epoch\t331\tRMSE:  229.4192, Val RMSE: 145.3582\n",
      "Epoch\t332\tRMSE:  230.1296, Val RMSE: 147.7397\n",
      "Epoch\t333\tRMSE:  230.0929, Val RMSE: 150.7434\n",
      "Epoch\t334\tRMSE:  230.8452, Val RMSE: 152.7239\n",
      "Epoch\t335\tRMSE:  229.6531, Val RMSE: 150.4540\n",
      "Epoch\t336\tRMSE:  229.5479, Val RMSE: 139.7587\n",
      "Epoch\t337\tRMSE:  228.7326, Val RMSE: 154.8061\n",
      "Epoch\t338\tRMSE:  229.0304, Val RMSE: 154.8267\n",
      "Epoch\t339\tRMSE:  229.6910, Val RMSE: 147.4339\n",
      "Epoch\t340\tRMSE:  230.1585, Val RMSE: 150.4259\n",
      "Epoch\t341\tRMSE:  231.5465, Val RMSE: 149.2843\n",
      "Epoch\t342\tRMSE:  228.5594, Val RMSE: 146.8803\n",
      "Epoch\t343\tRMSE:  227.5620, Val RMSE: 144.8148\n",
      "Epoch\t344\tRMSE:  230.9471, Val RMSE: 151.3718\n",
      "Epoch\t345\tRMSE:  230.0703, Val RMSE: 145.3421\n",
      "Epoch\t346\tRMSE:  231.8244, Val RMSE: 141.7201\n",
      "Epoch\t347\tRMSE:  230.3653, Val RMSE: 148.9154\n",
      "Epoch\t348\tRMSE:  230.1920, Val RMSE: 152.6145\n",
      "Epoch\t349\tRMSE:  229.4498, Val RMSE: 160.4032\n",
      "Epoch\t350\tRMSE:  231.6904, Val RMSE: 154.9104\n",
      "Epoch\t351\tRMSE:  228.8404, Val RMSE: 159.6846\n",
      "Epoch\t352\tRMSE:  229.4486, Val RMSE: 152.2350\n",
      "Epoch\t353\tRMSE:  230.3917, Val RMSE: 154.1797\n",
      "Epoch\t354\tRMSE:  229.1384, Val RMSE: 155.7193\n",
      "Epoch\t355\tRMSE:  230.5758, Val RMSE: 154.6354\n",
      "Epoch\t356\tRMSE:  228.8357, Val RMSE: 145.7162\n",
      "Epoch\t357\tRMSE:  230.4981, Val RMSE: 148.6873\n",
      "Epoch\t358\tRMSE:  229.5832, Val RMSE: 156.9402\n",
      "Epoch\t359\tRMSE:  230.9194, Val RMSE: 145.6161\n",
      "Epoch\t360\tRMSE:  228.9789, Val RMSE: 140.7753\n",
      "Epoch\t361\tRMSE:  230.3214, Val RMSE: 148.8064\n",
      "Epoch\t362\tRMSE:  228.9271, Val RMSE: 152.6121\n",
      "Epoch\t363\tRMSE:  230.7905, Val RMSE: 159.6766\n",
      "Epoch\t364\tRMSE:  230.9257, Val RMSE: 153.3053\n",
      "Epoch\t365\tRMSE:  230.3307, Val RMSE: 155.0515\n",
      "Epoch\t366\tRMSE:  230.0651, Val RMSE: 144.0497\n",
      "Epoch\t367\tRMSE:  231.6886, Val RMSE: 150.4613\n",
      "Epoch\t368\tRMSE:  230.5809, Val RMSE: 150.5678\n",
      "Epoch\t369\tRMSE:  228.7508, Val RMSE: 149.6195\n",
      "Epoch\t370\tRMSE:  229.2100, Val RMSE: 149.5446\n",
      "Epoch\t371\tRMSE:  230.1166, Val RMSE: 145.4650\n",
      "Epoch\t372\tRMSE:  228.8090, Val RMSE: 144.5388\n",
      "Epoch\t373\tRMSE:  230.7242, Val RMSE: 146.9015\n",
      "Epoch\t374\tRMSE:  229.3991, Val RMSE: 146.6733\n",
      "Epoch\t375\tRMSE:  229.0564, Val RMSE: 152.1644\n",
      "Epoch\t376\tRMSE:  228.7418, Val RMSE: 152.4532\n",
      "Epoch\t377\tRMSE:  230.5053, Val RMSE: 151.7052\n",
      "Epoch\t378\tRMSE:  228.3927, Val RMSE: 156.4760\n",
      "Epoch\t379\tRMSE:  230.7515, Val RMSE: 147.6035\n",
      "Epoch\t380\tRMSE:  230.5736, Val RMSE: 150.0507\n",
      "Epoch\t381\tRMSE:  229.6046, Val RMSE: 141.9884\n",
      "Epoch\t382\tRMSE:  228.4484, Val RMSE: 152.5698\n",
      "Epoch\t383\tRMSE:  229.0937, Val RMSE: 151.2732\n",
      "Epoch\t384\tRMSE:  230.4116, Val RMSE: 141.2228\n",
      "Epoch\t385\tRMSE:  230.6492, Val RMSE: 147.0689\n",
      "Epoch\t386\tRMSE:  230.0300, Val RMSE: 150.0854\n",
      "Epoch\t387\tRMSE:  230.3270, Val RMSE: 149.9800\n",
      "Epoch\t388\tRMSE:  232.6251, Val RMSE: 151.7719\n",
      "Epoch\t389\tRMSE:  227.8417, Val RMSE: 145.0355\n",
      "Epoch\t390\tRMSE:  230.2265, Val RMSE: 149.8753\n",
      "Epoch\t391\tRMSE:  228.3457, Val RMSE: 147.0900\n",
      "Epoch\t392\tRMSE:  232.3164, Val RMSE: 157.8677\n",
      "Epoch\t393\tRMSE:  230.1920, Val RMSE: 146.4533\n",
      "Epoch\t394\tRMSE:  232.4997, Val RMSE: 144.3044\n",
      "Epoch\t395\tRMSE:  229.1837, Val RMSE: 142.4484\n",
      "Epoch\t396\tRMSE:  231.1523, Val RMSE: 154.2040\n",
      "Epoch\t397\tRMSE:  230.9277, Val RMSE: 156.5745\n",
      "Epoch\t398\tRMSE:  230.1505, Val RMSE: 144.4048\n",
      "Epoch\t399\tRMSE:  230.9843, Val RMSE: 159.3700\n",
      "Epoch\t400\tRMSE:  231.8013, Val RMSE: 149.2725\n",
      "Epoch\t401\tRMSE:  229.4172, Val RMSE: 143.1321\n",
      "Epoch\t402\tRMSE:  230.4998, Val RMSE: 149.8820\n",
      "Epoch\t403\tRMSE:  228.5684, Val RMSE: 149.6240\n",
      "Epoch\t404\tRMSE:  232.0580, Val RMSE: 145.2340\n",
      "Epoch\t405\tRMSE:  231.7179, Val RMSE: 151.9269\n",
      "Epoch\t406\tRMSE:  230.9193, Val RMSE: 147.1484\n",
      "Epoch\t407\tRMSE:  230.6128, Val RMSE: 146.4464\n",
      "Epoch\t408\tRMSE:  230.9457, Val RMSE: 152.2465\n",
      "Epoch\t409\tRMSE:  231.4255, Val RMSE: 143.9386\n",
      "Epoch\t410\tRMSE:  230.8535, Val RMSE: 145.1652\n",
      "Epoch\t411\tRMSE:  228.9019, Val RMSE: 154.5168\n",
      "Epoch\t412\tRMSE:  232.6199, Val RMSE: 149.8239\n",
      "Epoch\t413\tRMSE:  230.8174, Val RMSE: 150.1401\n",
      "Epoch\t414\tRMSE:  227.9099, Val RMSE: 141.3974\n",
      "Epoch\t415\tRMSE:  228.4274, Val RMSE: 142.6166\n",
      "Epoch\t416\tRMSE:  230.3639, Val RMSE: 144.8737\n",
      "Epoch\t417\tRMSE:  229.6359, Val RMSE: 159.6526\n",
      "Epoch\t418\tRMSE:  228.7058, Val RMSE: 151.0193\n",
      "Epoch\t419\tRMSE:  231.4444, Val RMSE: 147.0560\n",
      "Epoch\t420\tRMSE:  230.5946, Val RMSE: 147.0129\n",
      "Epoch\t421\tRMSE:  228.4611, Val RMSE: 150.9083\n",
      "Epoch\t422\tRMSE:  228.7139, Val RMSE: 150.4252\n",
      "Epoch\t423\tRMSE:  229.9950, Val RMSE: 146.6973\n",
      "Epoch\t424\tRMSE:  230.2135, Val RMSE: 148.1847\n",
      "Epoch\t425\tRMSE:  230.8911, Val RMSE: 149.6651\n",
      "Epoch\t426\tRMSE:  230.7825, Val RMSE: 144.7404\n",
      "Epoch\t427\tRMSE:  228.1583, Val RMSE: 139.2654\n",
      "Epoch\t428\tRMSE:  229.2841, Val RMSE: 153.0542\n",
      "Epoch\t429\tRMSE:  231.4326, Val RMSE: 146.8212\n",
      "Epoch\t430\tRMSE:  228.8800, Val RMSE: 152.8406\n",
      "Epoch\t431\tRMSE:  229.5725, Val RMSE: 153.7514\n",
      "Epoch\t432\tRMSE:  230.1766, Val RMSE: 149.0459\n",
      "Epoch\t433\tRMSE:  230.3262, Val RMSE: 151.1288\n",
      "Epoch\t434\tRMSE:  228.4403, Val RMSE: 149.2607\n",
      "Epoch\t435\tRMSE:  229.0003, Val RMSE: 157.2504\n",
      "Epoch\t436\tRMSE:  230.0477, Val RMSE: 140.4187\n",
      "Epoch\t437\tRMSE:  230.5698, Val RMSE: 148.2521\n",
      "Epoch\t438\tRMSE:  228.2580, Val RMSE: 141.4077\n",
      "Epoch\t439\tRMSE:  229.5916, Val RMSE: 147.6732\n",
      "Epoch\t440\tRMSE:  228.4064, Val RMSE: 162.9703\n",
      "Epoch\t441\tRMSE:  230.8627, Val RMSE: 145.4457\n",
      "Epoch\t442\tRMSE:  229.0901, Val RMSE: 150.3901\n",
      "Epoch\t443\tRMSE:  230.3916, Val RMSE: 150.4932\n",
      "Epoch\t444\tRMSE:  230.8079, Val RMSE: 149.8988\n",
      "Epoch\t445\tRMSE:  229.6931, Val RMSE: 153.7225\n",
      "Epoch\t446\tRMSE:  229.3715, Val RMSE: 147.9743\n",
      "Epoch\t447\tRMSE:  229.2212, Val RMSE: 149.0720\n",
      "Epoch\t448\tRMSE:  229.8134, Val RMSE: 143.0256\n",
      "Epoch\t449\tRMSE:  228.4061, Val RMSE: 142.9124\n",
      "Epoch\t450\tRMSE:  230.1489, Val RMSE: 145.5179\n",
      "Epoch\t451\tRMSE:  228.0330, Val RMSE: 150.9390\n",
      "Epoch\t452\tRMSE:  229.6871, Val RMSE: 143.4647\n",
      "Epoch\t453\tRMSE:  229.3875, Val RMSE: 150.1114\n",
      "Epoch\t454\tRMSE:  227.0520, Val RMSE: 156.9672\n",
      "Epoch\t455\tRMSE:  231.0754, Val RMSE: 148.8348\n",
      "Epoch\t456\tRMSE:  228.9440, Val RMSE: 151.7582\n",
      "Epoch\t457\tRMSE:  228.8228, Val RMSE: 141.0910\n",
      "Epoch\t458\tRMSE:  231.2553, Val RMSE: 153.2006\n",
      "Epoch\t459\tRMSE:  230.9370, Val RMSE: 145.3876\n",
      "Epoch\t460\tRMSE:  229.8225, Val RMSE: 151.6263\n",
      "Epoch\t461\tRMSE:  229.7068, Val RMSE: 151.5200\n",
      "Epoch\t462\tRMSE:  231.0466, Val RMSE: 155.4839\n",
      "Epoch\t463\tRMSE:  231.0632, Val RMSE: 149.2595\n",
      "Epoch\t464\tRMSE:  228.9700, Val RMSE: 152.8430\n",
      "Epoch\t465\tRMSE:  228.1958, Val RMSE: 146.7605\n",
      "Epoch\t466\tRMSE:  230.8857, Val RMSE: 140.8327\n",
      "Epoch\t467\tRMSE:  228.5732, Val RMSE: 155.1868\n",
      "Epoch\t468\tRMSE:  229.4120, Val RMSE: 152.4067\n",
      "Epoch\t469\tRMSE:  228.0416, Val RMSE: 143.0888\n",
      "Epoch\t470\tRMSE:  229.1774, Val RMSE: 157.2045\n",
      "Epoch\t471\tRMSE:  230.8065, Val RMSE: 150.5754\n",
      "Epoch\t472\tRMSE:  230.6592, Val RMSE: 154.5097\n",
      "Epoch\t473\tRMSE:  228.9121, Val RMSE: 148.3564\n",
      "Epoch\t474\tRMSE:  229.9171, Val RMSE: 141.9650\n",
      "Epoch\t475\tRMSE:  230.2684, Val RMSE: 146.3044\n",
      "Epoch\t476\tRMSE:  231.2339, Val RMSE: 150.4410\n",
      "Epoch\t477\tRMSE:  229.7918, Val RMSE: 160.8145\n",
      "Epoch\t478\tRMSE:  229.9869, Val RMSE: 149.3288\n",
      "Epoch\t479\tRMSE:  228.9473, Val RMSE: 150.9568\n",
      "Epoch\t480\tRMSE:  228.6150, Val RMSE: 148.6616\n",
      "Epoch\t481\tRMSE:  229.8578, Val RMSE: 145.7193\n",
      "Epoch\t482\tRMSE:  228.7081, Val RMSE: 151.4197\n",
      "Epoch\t483\tRMSE:  229.6636, Val RMSE: 143.4074\n",
      "Epoch\t484\tRMSE:  230.4938, Val RMSE: 147.9267\n",
      "Epoch\t485\tRMSE:  228.3276, Val RMSE: 154.2696\n",
      "Epoch\t486\tRMSE:  229.1328, Val RMSE: 157.3372\n",
      "Epoch\t487\tRMSE:  229.2349, Val RMSE: 155.9737\n",
      "Epoch\t488\tRMSE:  230.7120, Val RMSE: 148.6050\n",
      "Epoch\t489\tRMSE:  229.3405, Val RMSE: 156.9161\n",
      "Epoch\t490\tRMSE:  229.7384, Val RMSE: 148.2013\n",
      "Epoch\t491\tRMSE:  228.7331, Val RMSE: 138.5504\n",
      "\u001b[33mSave\u001b[0m\n",
      "Epoch\t492\tRMSE:  228.3184, Val RMSE: 147.5408\n",
      "Epoch\t493\tRMSE:  229.3175, Val RMSE: 155.2451\n",
      "Epoch\t494\tRMSE:  229.9537, Val RMSE: 146.1214\n",
      "Epoch\t495\tRMSE:  229.5075, Val RMSE: 150.5678\n",
      "Epoch\t496\tRMSE:  228.9491, Val RMSE: 146.9349\n",
      "Epoch\t497\tRMSE:  230.8002, Val RMSE: 151.9402\n",
      "Epoch\t498\tRMSE:  228.8175, Val RMSE: 147.0483\n",
      "Epoch\t499\tRMSE:  230.0152, Val RMSE: 159.7380\n",
      "Epoch\t500\tRMSE:  228.4166, Val RMSE: 151.8005\n"
     ]
    }
   ],
   "source": [
    "if not os.path.exists(model_path): os.mkdir(model_path)\n",
    "\n",
    "for i in range(epochs):\n",
    "    training_loss = 0\n",
    "    val_loss = 0\n",
    "    model.train()\n",
    "    for train_idx, val_idx in kf.split(X_train):\n",
    "        X_train_fold, y_train_fold = X_train[train_idx], y_train[train_idx]\n",
    "        X_val_fold, y_val_fold = X_train[val_idx], y_train[val_idx]\n",
    "        train_loader = DataLoader(TensorDataset(X_train_fold, y_train_fold), batch_size=batch_size, shuffle=True)\n",
    "        val_loader = DataLoader(TensorDataset(X_val_fold, y_val_fold), batch_size=batch_size)\n",
    "        \n",
    "        model.train()\n",
    "        for data in train_loader:        \n",
    "            optimizer.zero_grad()\n",
    "            frame, label = data\n",
    "            frame, label = frame.to(device), label.to(device)\n",
    "            \n",
    "            output = model(frame)\n",
    "            output_loss = torch.sqrt(loss(output, label))\n",
    "            training_loss += output_loss.item()\n",
    "            \n",
    "            # BP\n",
    "            output_loss.backward()\n",
    "            optimizer.step()\n",
    "        model.eval()\n",
    "        with torch.no_grad():\n",
    "            for data in val_loader:\n",
    "                frame, label = data\n",
    "                frame, label = frame.to(device), label.to(device)\n",
    "                \n",
    "                output = model(frame)\n",
    "                output_loss = torch.sqrt(loss(output, label))\n",
    "                val_loss += output_loss.item()\n",
    "                \n",
    "    rmse = training_loss / len(train_loader) / k\n",
    "    val_rmse = val_loss / len(val_loader) / k\n",
    "    history['loss'].append(rmse)\n",
    "    history['val_loss'].append(val_rmse)\n",
    "    print(f'Epoch\\t{i + 1}\\tRMSE: {rmse: .4f}, Val RMSE: {val_rmse:.4f}')\n",
    "    \n",
    "    # Store Model\n",
    "    if val_rmse < lowest_rmse:\n",
    "        lowest_rmse = val_rmse\n",
    "        torch.save(model, os.path.join(model_path, 'model.pt'))\n",
    "        print('\\033[33mSave\\033[0m')\n",
    "    "
   ]
  },
  {
   "cell_type": "code",
   "execution_count": null,
   "metadata": {},
   "outputs": [
    {
     "name": "stdout",
     "output_type": "stream",
     "text": [
      "RMSE Loss 138.5504\n"
     ]
    },
    {
     "data": {
      "image/png": "[encoded data removed]",
      "text/plain": [
       "<Figure size 640x480 with 1 Axes>"
      ]
     },
     "metadata": {},
     "output_type": "display_data"
    }
   ],
   "source": [
    "print(f'RMSE Loss {min(history[\"val_loss\"]):.4f}')\n",
    "\n",
    "plt.cla(); plt.clf()\n",
    "plt.plot(history['loss'], 'b', label='train')\n",
    "plt.plot(history['val_loss'], 'r', label='validation')\n",
    "plt.title('RMSE')\n",
    "plt.xlabel('Epoch')\n",
    "plt.show()"
   ]
  },
  {
   "cell_type": "code",
   "execution_count": null,
   "metadata": {},
   "outputs": [
    {
     "name": "stdout",
     "output_type": "stream",
     "text": [
      "HouseStyle_2.5Fin\n"
     ]
    }
   ],
   "source": [
    "for frame in df_train_usefull.columns:\n",
    "    if frame not in df_test_usefull.columns: print(frame)"
   ]
  },
  {
   "cell_type": "code",
   "execution_count": null,
   "metadata": {},
   "outputs": [
    {
     "name": "stderr",
     "output_type": "stream",
     "text": [
      "C:\\Users\\wendy\\AppData\\Local\\Temp\\ipykernel_29748\\3354521204.py:3: FutureWarning: You are using `torch.load` with `weights_only=False` (the current default value), which uses the default pickle module implicitly. It is possible to construct malicious pickle data which will execute arbitrary code during unpickling (See https://github.com/pytorch/pytorch/blob/main/SECURITY.md#untrusted-models for more details). In a future release, the default value for `weights_only` will be flipped to `True`. This limits the functions that could be executed during unpickling. Arbitrary objects will no longer be allowed to be loaded via this mode unless they are explicitly allowlisted by the user via `torch.serialization.add_safe_globals`. We recommend you start setting `weights_only=True` for any use case where you don't have full control of the loaded file. Please open an issue on GitHub for any issues related to this experimental feature.\n",
      "  model = torch.load(os.path.join(model_path, 'model.pt'))\n"
     ]
    },
    {
     "name": "stdout",
     "output_type": "stream",
     "text": [
      "complete\n"
     ]
    }
   ],
   "source": [
    "submit = 'Id,SalePrice\\n'\n",
    "idx = 1461\n",
    "model = torch.load(os.path.join(model_path, 'model.pt'))\n",
    "with torch.no_grad():\n",
    "    model.eval()\n",
    "    for data in test_loader:\n",
    "        frame = data.to(device)\n",
    "        output = model(frame)\n",
    "        submit += f'{idx},{output.item()}\\n'\n",
    "        idx += 1\n",
    "\n",
    "open('submit.csv', 'w').write(submit)\n",
    "print('complete')"
   ]
  },
  {
   "cell_type": "code",
   "execution_count": null,
   "metadata": {},
   "outputs": [
    {
     "name": "stdout",
     "output_type": "stream",
     "text": [
      "2025_03_23__22_02_29\n"
     ]
    }
   ],
   "source": [
    "import datetime\n",
    "import pytz\n",
    "\n",
    "now = datetime.datetime.now(pytz.timezone('Asia/Taipei')).strftime(r'%Y_%m_%d__%H_%M_%S')\n",
    "print(now)"
   ]
  }
 ],
 "metadata": {
  "kernelspec": {
   "display_name": "base",
   "language": "python",
   "name": "python3"
  },
  "language_info": {
   "codemirror_mode": {
    "name": "ipython",
    "version": 3
   },
   "file_extension": ".py",
   "mimetype": "text/x-python",
   "name": "python",
   "nbconvert_exporter": "python",
   "pygments_lexer": "ipython3",
   "version": "3.9.19"
  }
 },
 "nbformat": 4,
 "nbformat_minor": 2
}
