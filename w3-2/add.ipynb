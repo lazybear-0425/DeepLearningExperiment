{
 "cells": [
  {
   "cell_type": "markdown",
   "metadata": {},
   "source": [
    " - Life Lone Learning\n",
    " - Elastic Weight Consolidation (EWC)\n",
    "    - [LINK](https://www.kaggle.com/code/hughiephan/elastic-weight-consolidation-on-minst)\n",
    "    - 公式 $\\mathcal{L}(\\theta) = \\mathcal{L}_B(\\theta) + \\frac\\lambda2\\sum^n_{i=1}F_i(\\theta_i - \\theta^*_{A,i})^2$\n",
    "        - B是指目前任務，A是指前一個任務"
   ]
  },
  {
   "cell_type": "code",
   "execution_count": null,
   "metadata": {},
   "outputs": [],
   "source": [
    "import torch\n",
    "from torch import nn"
   ]
  }
 ],
 "metadata": {
  "kernelspec": {
   "display_name": "base",
   "language": "python",
   "name": "python3"
  },
  "language_info": {
   "name": "python",
   "version": "3.9.19"
  }
 },
 "nbformat": 4,
 "nbformat_minor": 2
}
