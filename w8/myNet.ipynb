{
 "cells": [
  {
   "cell_type": "code",
   "execution_count": 15,
   "id": "1b2458de",
   "metadata": {},
   "outputs": [],
   "source": [
    "import torch\n",
    "from torch import nn\n",
    "from torchvision.datasets import FashionMNIST\n",
    "from torch.optim import Adam\n",
    "from torch.utils.data import DataLoader\n",
    "from torch.nn import CrossEntropyLoss\n",
    "from torch.optim.lr_scheduler import StepLR\n",
    "import math\n",
    "import matplotlib.pyplot as plt\n",
    "from torchvision.transforms import ToTensor, Normalize, Compose"
   ]
  },
  {
   "cell_type": "code",
   "execution_count": 16,
   "id": "7eb96936",
   "metadata": {},
   "outputs": [],
   "source": [
    "# Hyper-parameter\n",
    "epochs = 20\n",
    "batch_size = 256"
   ]
  },
  {
   "cell_type": "code",
   "execution_count": 17,
   "id": "af7a2783",
   "metadata": {},
   "outputs": [],
   "source": [
    "device = 'cuda' if torch.cuda.is_available() else 'cpu'"
   ]
  },
  {
   "cell_type": "code",
   "execution_count": 18,
   "id": "1d91b053",
   "metadata": {},
   "outputs": [],
   "source": [
    "transform = Compose([ToTensor(), Normalize(0, 1)])"
   ]
  },
  {
   "cell_type": "code",
   "execution_count": 19,
   "id": "3968b2be",
   "metadata": {},
   "outputs": [],
   "source": [
    "train_data = FashionMNIST('data', train=True, transform=transform, download=True)\n",
    "test_data = FashionMNIST('data', train=False, transform=transform, download=True)\n",
    "\n",
    "train_loader = DataLoader(train_data, batch_size=batch_size, pin_memory=True, shuffle=True)\n",
    "test_loader = DataLoader(test_data, batch_size=batch_size, pin_memory=True, shuffle=False)"
   ]
  },
  {
   "cell_type": "code",
   "execution_count": 20,
   "id": "d05b20a8",
   "metadata": {},
   "outputs": [],
   "source": [
    "class Module(nn.Module):\n",
    "    def __init__(self):\n",
    "        super(Module, self).__init__()\n",
    "        self.net = nn.Sequential(\n",
    "            nn.Conv2d(1, 64, (3, 3), padding=0),\n",
    "            nn.ReLU(),\n",
    "            nn.MaxPool2d(2, 2),\n",
    "            nn.BatchNorm2d(64),\n",
    "            \n",
    "            nn.Conv2d(64, 32, (3, 3), padding=0),\n",
    "            nn.ReLU(),\n",
    "            nn.MaxPool2d(2, 2),\n",
    "            nn.BatchNorm2d(32),\n",
    "            \n",
    "            nn.Conv2d(32, 16, (3, 3), padding=0),\n",
    "            nn.ReLU(),\n",
    "            nn.MaxPool2d(2, 2),\n",
    "            nn.BatchNorm2d(16),\n",
    "            \n",
    "            nn.Flatten(),\n",
    "            \n",
    "            nn.LazyLinear(120),\n",
    "            nn.ReLU(),\n",
    "            nn.Dropout(),\n",
    "            \n",
    "            nn.LazyLinear(84),\n",
    "            nn.ReLU(),\n",
    "            nn.Dropout(),\n",
    "            \n",
    "            nn.LazyLinear(10)\n",
    "        )\n",
    "    def forward(self, X):\n",
    "        return self.net(X)"
   ]
  },
  {
   "cell_type": "code",
   "execution_count": null,
   "id": "283a8b20",
   "metadata": {},
   "outputs": [],
   "source": [
    "model = Module(); model.to(device)\n",
    "optimizer = Adam(model.parameters(), 0.000)\n",
    "loss = CrossEntropyLoss()\n",
    "# scheduler = StepLR(optimizer, 5, math.exp(-0.1))"
   ]
  },
  {
   "cell_type": "code",
   "execution_count": 22,
   "id": "eb7a0134",
   "metadata": {},
   "outputs": [
    {
     "name": "stdout",
     "output_type": "stream",
     "text": [
      "----------------------------------------------------------------\n",
      "        Layer (type)               Output Shape         Param #\n",
      "================================================================\n",
      "            Conv2d-1           [-1, 64, 26, 26]             640\n",
      "              ReLU-2           [-1, 64, 26, 26]               0\n",
      "         MaxPool2d-3           [-1, 64, 13, 13]               0\n",
      "       BatchNorm2d-4           [-1, 64, 13, 13]             128\n",
      "            Conv2d-5           [-1, 32, 11, 11]          18,464\n",
      "              ReLU-6           [-1, 32, 11, 11]               0\n",
      "         MaxPool2d-7             [-1, 32, 5, 5]               0\n",
      "       BatchNorm2d-8             [-1, 32, 5, 5]              64\n",
      "            Conv2d-9             [-1, 16, 3, 3]           4,624\n",
      "             ReLU-10             [-1, 16, 3, 3]               0\n",
      "        MaxPool2d-11             [-1, 16, 1, 1]               0\n",
      "      BatchNorm2d-12             [-1, 16, 1, 1]              32\n",
      "          Flatten-13                   [-1, 16]               0\n",
      "           Linear-14                  [-1, 120]           2,040\n",
      "             ReLU-15                  [-1, 120]               0\n",
      "          Dropout-16                  [-1, 120]               0\n",
      "           Linear-17                   [-1, 84]          10,164\n",
      "             ReLU-18                   [-1, 84]               0\n",
      "          Dropout-19                   [-1, 84]               0\n",
      "           Linear-20                   [-1, 10]             850\n",
      "================================================================\n",
      "Total params: 37,006\n",
      "Trainable params: 37,006\n",
      "Non-trainable params: 0\n",
      "----------------------------------------------------------------\n",
      "Input size (MB): 0.00\n",
      "Forward/backward pass size (MB): 0.90\n",
      "Params size (MB): 0.14\n",
      "Estimated Total Size (MB): 1.05\n",
      "----------------------------------------------------------------\n"
     ]
    }
   ],
   "source": [
    "from torchsummary import summary\n",
    "summary(model, (1, 28, 28))\n"
   ]
  },
  {
   "cell_type": "code",
   "execution_count": 23,
   "id": "3ab7ec67",
   "metadata": {},
   "outputs": [],
   "source": [
    "history = {\n",
    "    'acc':[],\n",
    "    'loss':[],\n",
    "    'val_acc':[],\n",
    "    'val_loss':[]\n",
    "}"
   ]
  },
  {
   "cell_type": "code",
   "execution_count": 24,
   "id": "1245878d",
   "metadata": {},
   "outputs": [
    {
     "name": "stdout",
     "output_type": "stream",
     "text": [
      "\u001b[33mEpoch 1 Start\u001b[0m\n",
      "Train acc: 0.4159, loss: 1.7494\n",
      "Test acc: 0.6266, loss: 1.0563\n",
      "======================================\n",
      "\u001b[33mEpoch 2 Start\u001b[0m\n",
      "Train acc: 0.6434, loss: 0.9599\n",
      "Test acc: 0.7480, loss: 0.7233\n",
      "======================================\n",
      "\u001b[33mEpoch 3 Start\u001b[0m\n",
      "Train acc: 0.7184, loss: 0.8152\n",
      "Test acc: 0.7633, loss: 0.6768\n",
      "======================================\n",
      "\u001b[33mEpoch 4 Start\u001b[0m\n",
      "Train acc: 0.7398, loss: 0.7202\n",
      "Test acc: 0.7712, loss: 0.6137\n",
      "======================================\n",
      "\u001b[33mEpoch 5 Start\u001b[0m\n",
      "Train acc: 0.7588, loss: 0.6916\n",
      "Test acc: 0.7843, loss: 0.5899\n",
      "======================================\n",
      "\u001b[33mEpoch 6 Start\u001b[0m\n",
      "Train acc: 0.7607, loss: 0.6540\n",
      "Test acc: 0.7904, loss: 0.5597\n",
      "======================================\n",
      "\u001b[33mEpoch 7 Start\u001b[0m\n",
      "Train acc: 0.7792, loss: 0.6270\n",
      "Test acc: 0.7991, loss: 0.5518\n",
      "======================================\n",
      "\u001b[33mEpoch 8 Start\u001b[0m\n",
      "Train acc: 0.7828, loss: 0.6119\n",
      "Test acc: 0.8011, loss: 0.5410\n",
      "======================================\n",
      "\u001b[33mEpoch 9 Start\u001b[0m\n",
      "Train acc: 0.7914, loss: 0.5976\n",
      "Test acc: 0.8075, loss: 0.5226\n",
      "======================================\n",
      "\u001b[33mEpoch 10 Start\u001b[0m\n",
      "Train acc: 0.7983, loss: 0.5735\n",
      "Test acc: 0.8034, loss: 0.5316\n",
      "======================================\n",
      "\u001b[33mEpoch 11 Start\u001b[0m\n",
      "Train acc: 0.7981, loss: 0.5589\n",
      "Test acc: 0.8182, loss: 0.5019\n",
      "======================================\n",
      "\u001b[33mEpoch 12 Start\u001b[0m\n",
      "Train acc: 0.8055, loss: 0.5523\n",
      "Test acc: 0.8152, loss: 0.5030\n",
      "======================================\n",
      "\u001b[33mEpoch 13 Start\u001b[0m\n",
      "Train acc: 0.8077, loss: 0.5384\n",
      "Test acc: 0.8198, loss: 0.4955\n",
      "======================================\n",
      "\u001b[33mEpoch 14 Start\u001b[0m\n",
      "Train acc: 0.8160, loss: 0.5243\n",
      "Test acc: 0.8267, loss: 0.4827\n",
      "======================================\n",
      "\u001b[33mEpoch 15 Start\u001b[0m\n",
      "Train acc: 0.8147, loss: 0.5188\n",
      "Test acc: 0.8286, loss: 0.4742\n",
      "======================================\n",
      "\u001b[33mEpoch 16 Start\u001b[0m\n",
      "Train acc: 0.8174, loss: 0.5097\n",
      "Test acc: 0.8330, loss: 0.4705\n",
      "======================================\n",
      "\u001b[33mEpoch 17 Start\u001b[0m\n",
      "Train acc: 0.8221, loss: 0.5051\n",
      "Test acc: 0.8268, loss: 0.4681\n",
      "======================================\n",
      "\u001b[33mEpoch 18 Start\u001b[0m\n",
      "Train acc: 0.8220, loss: 0.5018\n",
      "Test acc: 0.8312, loss: 0.4618\n",
      "======================================\n",
      "\u001b[33mEpoch 19 Start\u001b[0m\n",
      "Train acc: 0.8202, loss: 0.4993\n",
      "Test acc: 0.8351, loss: 0.4617\n",
      "======================================\n",
      "\u001b[33mEpoch 20 Start\u001b[0m\n",
      "Train acc: 0.8266, loss: 0.4917\n",
      "Test acc: 0.8343, loss: 0.4676\n",
      "======================================\n"
     ]
    }
   ],
   "source": [
    "for i in range(epochs):\n",
    "    print('\\033[33m' + f'Epoch {i + 1} Start' + '\\33[0m')\n",
    "    \n",
    "    # Start Training\n",
    "    train_acc = 0\n",
    "    train_loss = 0\n",
    "    \n",
    "    model.train()\n",
    "    for data in train_loader:\n",
    "        img, label = data\n",
    "        img, label = img.to(device), label.to(device)\n",
    "        \n",
    "        output = model(img)\n",
    "        output_loss = loss(output, label)\n",
    "        # Calculate\n",
    "        train_acc += (output.argmax(dim=1) == label).sum().item()\n",
    "        train_loss += output_loss.item()\n",
    "        # BP\n",
    "        output_loss.backward()\n",
    "        optimizer.step()\n",
    "    # scheduler.step()\n",
    "    train_acc = train_acc / len(train_data)\n",
    "    train_loss /= len(train_loader)\n",
    "    \n",
    "    # Start Valuation\n",
    "    test_acc = 0\n",
    "    test_loss = 0\n",
    "    \n",
    "    model.eval()\n",
    "    with torch.no_grad():\n",
    "        for data in test_loader:\n",
    "            img, label = data\n",
    "            img, label = img.to(device), label.to(device)\n",
    "            \n",
    "            output = model(img)\n",
    "            output_loss = loss(output, label)\n",
    "            # Calculate\n",
    "            test_acc += (output.argmax(dim=1) == label).sum().item()\n",
    "            test_loss += output_loss.item()\n",
    "    test_acc = test_acc / len(test_data)\n",
    "    test_loss /= len(test_loader)\n",
    "    \n",
    "    history['acc'].append(train_acc)\n",
    "    history['loss'].append(train_loss)\n",
    "    history['val_acc'].append(test_acc)\n",
    "    history['val_loss'].append(test_loss)\n",
    "    \n",
    "    print(f'Train acc: {train_acc:.4f}, loss: {train_loss:.4f}')\n",
    "    print(f'Test acc: {test_acc:.4f}, loss: {test_loss:.4f}')\n",
    "    print('======================================')"
   ]
  },
  {
   "cell_type": "code",
   "execution_count": 25,
   "id": "f77ae42f",
   "metadata": {},
   "outputs": [
    {
     "name": "stdout",
     "output_type": "stream",
     "text": [
      "pred outcome 0.8351\n"
     ]
    }
   ],
   "source": [
    "print('pred outcome', round(max(history['val_acc']), 4))"
   ]
  },
  {
   "cell_type": "code",
   "execution_count": 26,
   "id": "5296e3ea",
   "metadata": {},
   "outputs": [],
   "source": [
    "def show(history:dict, name):\n",
    "    plt.cla(); plt.clf()\n",
    "    plt.plot(history[name], 'b', label='train')\n",
    "    plt.plot(history['val_'+name], 'r', label='val')\n",
    "    plt.xlabel('Epoch')\n",
    "    plt.ylabel(name)\n",
    "    plt.legend()\n",
    "    plt.title('Performance')\n",
    "    plt.show()"
   ]
  },
  {
   "cell_type": "code",
   "execution_count": 27,
   "id": "8b3232ba",
   "metadata": {},
   "outputs": [
    {
     "data": {
      "image/png": "[encoded data removed]",
      "text/plain": [
       "<Figure size 640x480 with 1 Axes>"
      ]
     },
     "metadata": {},
     "output_type": "display_data"
    }
   ],
   "source": [
    "show(history, 'acc')"
   ]
  },
  {
   "cell_type": "code",
   "execution_count": 28,
   "id": "13a14b3a",
   "metadata": {},
   "outputs": [
    {
     "data": {
      "image/png": "[encoded data removed]",
      "text/plain": [
       "<Figure size 640x480 with 1 Axes>"
      ]
     },
     "metadata": {},
     "output_type": "display_data"
    }
   ],
   "source": [
    "show(history, 'loss')"
   ]
  }
 ],
 "metadata": {
  "kernelspec": {
   "display_name": "base",
   "language": "python",
   "name": "python3"
  },
  "language_info": {
   "codemirror_mode": {
    "name": "ipython",
    "version": 3
   },
   "file_extension": ".py",
   "mimetype": "text/x-python",
   "name": "python",
   "nbconvert_exporter": "python",
   "pygments_lexer": "ipython3",
   "version": "3.9.19"
  }
 },
 "nbformat": 4,
 "nbformat_minor": 5
}
