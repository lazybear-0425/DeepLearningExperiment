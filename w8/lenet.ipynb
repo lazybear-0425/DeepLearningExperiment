{
 "cells": [
  {
   "cell_type": "code",
   "execution_count": null,
   "id": "1b2458de",
   "metadata": {},
   "outputs": [],
   "source": [
    "import torch\n",
    "from torch import nn\n",
    "from torchvision.datasets import FashionMNIST\n",
    "from torch.optim import Adam\n",
    "from torch.utils.data import DataLoader\n",
    "from torch.nn import CrossEntropyLoss, NLLLoss, MSELoss\n",
    "from torch.optim.lr_scheduler import StepLR\n",
    "import math\n",
    "import matplotlib.pyplot as plt\n",
    "from torchvision.transforms import ToTensor, Normalize, Compose"
   ]
  },
  {
   "cell_type": "code",
   "execution_count": 122,
   "id": "7eb96936",
   "metadata": {},
   "outputs": [],
   "source": [
    "# Hyper-parameter\n",
    "epochs = 20\n",
    "batch_size = 256"
   ]
  },
  {
   "cell_type": "code",
   "execution_count": 123,
   "id": "af7a2783",
   "metadata": {},
   "outputs": [],
   "source": [
    "device = 'cuda' if torch.cuda.is_available() else 'cpu'"
   ]
  },
  {
   "cell_type": "code",
   "execution_count": 124,
   "id": "1d91b053",
   "metadata": {},
   "outputs": [],
   "source": [
    "transform = Compose([ToTensor(), Normalize(0, 1)])"
   ]
  },
  {
   "cell_type": "code",
   "execution_count": null,
   "id": "3968b2be",
   "metadata": {},
   "outputs": [],
   "source": [
    "train_data = FashionMNIST('data', train=True, transform=transform, download=True)\n",
    "test_data = FashionMNIST('data', train=False, transform=transform, download=True)\n",
    "\n",
    "train_loader = DataLoader(train_data, batch_size=batch_size, pin_memory=True, shuffle=True)\n",
    "test_loader = DataLoader(test_data, batch_size=batch_size, pin_memory=True, shuffle=False)"
   ]
  },
  {
   "cell_type": "code",
   "execution_count": null,
   "id": "d05b20a8",
   "metadata": {},
   "outputs": [],
   "source": [
    "class Module(nn.Module):\n",
    "    def __init__(self):\n",
    "        super(Module, self).__init__()\n",
    "        self.net = nn.Sequential(\n",
    "            nn.Conv2d(1, 6, (5, 5), padding=2),\n",
    "            nn.Sigmoid(),\n",
    "            nn.AvgPool2d(2, 2),\n",
    "            \n",
    "            nn.Conv2d(6, 16, (5, 5)),\n",
    "            nn.Sigmoid(),\n",
    "            nn.AvgPool2d(2, 2),\n",
    "            \n",
    "            nn.Flatten(),\n",
    "            nn.LazyLinear(120),\n",
    "            nn.Sigmoid(),\n",
    "            \n",
    "            nn.LazyLinear(84),\n",
    "            nn.Sigmoid(),\n",
    "            \n",
    "            nn.LazyLinear(10),\n",
    "            nn.LogSoftmax(1),\n",
    "        )\n",
    "    def forward(self, X):\n",
    "        return self.net(X)"
   ]
  },
  {
   "cell_type": "code",
   "execution_count": null,
   "id": "283a8b20",
   "metadata": {},
   "outputs": [],
   "source": [
    "model = Module(); model.to(device)\n",
    "optimizer = Adam(model.parameters(), 0.001)\n",
    "loss = NLLLoss()\n",
    "scheduler = StepLR(optimizer, 10, math.exp(-0.1))"
   ]
  },
  {
   "cell_type": "code",
   "execution_count": 128,
   "id": "d8b02228",
   "metadata": {},
   "outputs": [
    {
     "name": "stdout",
     "output_type": "stream",
     "text": [
      "----------------------------------------------------------------\n",
      "        Layer (type)               Output Shape         Param #\n",
      "================================================================\n",
      "            Conv2d-1            [-1, 6, 28, 28]             156\n",
      "           Sigmoid-2            [-1, 6, 28, 28]               0\n",
      "         AvgPool2d-3            [-1, 6, 14, 14]               0\n",
      "            Conv2d-4           [-1, 16, 10, 10]           2,416\n",
      "           Sigmoid-5           [-1, 16, 10, 10]               0\n",
      "         AvgPool2d-6             [-1, 16, 5, 5]               0\n",
      "           Flatten-7                  [-1, 400]               0\n",
      "            Linear-8                  [-1, 120]          48,120\n",
      "           Sigmoid-9                  [-1, 120]               0\n",
      "           Linear-10                   [-1, 84]          10,164\n",
      "          Sigmoid-11                   [-1, 84]               0\n",
      "           Linear-12                   [-1, 10]             850\n",
      "             ReLU-13                   [-1, 10]               0\n",
      "================================================================\n",
      "Total params: 61,706\n",
      "Trainable params: 61,706\n",
      "Non-trainable params: 0\n",
      "----------------------------------------------------------------\n",
      "Input size (MB): 0.00\n",
      "Forward/backward pass size (MB): 0.11\n",
      "Params size (MB): 0.24\n",
      "Estimated Total Size (MB): 0.35\n",
      "----------------------------------------------------------------\n"
     ]
    }
   ],
   "source": [
    "from torchsummary import summary\n",
    "summary(model, (1, 28, 28))"
   ]
  },
  {
   "cell_type": "code",
   "execution_count": 129,
   "id": "3ab7ec67",
   "metadata": {},
   "outputs": [],
   "source": [
    "history = {\n",
    "    'acc':[],\n",
    "    'loss':[],\n",
    "    'val_acc':[],\n",
    "    'val_loss':[]\n",
    "}"
   ]
  },
  {
   "cell_type": "code",
   "execution_count": null,
   "id": "1245878d",
   "metadata": {},
   "outputs": [
    {
     "name": "stdout",
     "output_type": "stream",
     "text": [
      "\u001b[33mEpoch 1 Start\u001b[0m\n",
      "Train acc: 0.1058, loss: 0.0967\n",
      "Test acc: 0.1135, loss: 0.0950\n",
      "======================================\n",
      "\u001b[33mEpoch 2 Start\u001b[0m\n",
      "Train acc: 0.1098, loss: 0.0949\n",
      "Test acc: 0.1775, loss: 0.0948\n",
      "======================================\n",
      "\u001b[33mEpoch 3 Start\u001b[0m\n",
      "Train acc: 0.3724, loss: 0.0763\n",
      "Test acc: 0.5806, loss: 0.0551\n",
      "======================================\n",
      "\u001b[33mEpoch 4 Start\u001b[0m\n",
      "Train acc: 0.6569, loss: 0.0462\n",
      "Test acc: 0.7032, loss: 0.0409\n",
      "======================================\n",
      "\u001b[33mEpoch 5 Start\u001b[0m\n",
      "Train acc: 0.7137, loss: 0.0398\n",
      "Test acc: 0.7244, loss: 0.0381\n",
      "======================================\n",
      "\u001b[33mEpoch 6 Start\u001b[0m\n",
      "Train acc: 0.7339, loss: 0.0378\n",
      "Test acc: 0.7374, loss: 0.0369\n",
      "======================================\n",
      "\u001b[33mEpoch 7 Start\u001b[0m\n",
      "Train acc: 0.7459, loss: 0.0365\n",
      "Test acc: 0.7537, loss: 0.0355\n",
      "======================================\n",
      "\u001b[33mEpoch 8 Start\u001b[0m\n",
      "Train acc: 0.7544, loss: 0.0355\n",
      "Test acc: 0.7597, loss: 0.0347\n",
      "======================================\n",
      "\u001b[33mEpoch 9 Start\u001b[0m\n",
      "Train acc: 0.7612, loss: 0.0348\n",
      "Test acc: 0.7638, loss: 0.0341\n",
      "======================================\n",
      "\u001b[33mEpoch 10 Start\u001b[0m\n",
      "Train acc: 0.7659, loss: 0.0343\n",
      "Test acc: 0.7652, loss: 0.0340\n",
      "======================================\n",
      "\u001b[33mEpoch 11 Start\u001b[0m\n",
      "Train acc: 0.7699, loss: 0.0338\n",
      "Test acc: 0.7748, loss: 0.0336\n",
      "======================================\n",
      "\u001b[33mEpoch 12 Start\u001b[0m\n",
      "Train acc: 0.7730, loss: 0.0335\n",
      "Test acc: 0.7737, loss: 0.0331\n",
      "======================================\n",
      "\u001b[33mEpoch 13 Start\u001b[0m\n",
      "Train acc: 0.7752, loss: 0.0332\n",
      "Test acc: 0.7733, loss: 0.0331\n",
      "======================================\n",
      "\u001b[33mEpoch 14 Start\u001b[0m\n",
      "Train acc: 0.7772, loss: 0.0330\n",
      "Test acc: 0.7784, loss: 0.0328\n",
      "======================================\n",
      "\u001b[33mEpoch 15 Start\u001b[0m\n",
      "Train acc: 0.7790, loss: 0.0328\n",
      "Test acc: 0.7806, loss: 0.0325\n",
      "======================================\n",
      "\u001b[33mEpoch 16 Start\u001b[0m\n",
      "Train acc: 0.7805, loss: 0.0326\n",
      "Test acc: 0.7810, loss: 0.0324\n",
      "======================================\n",
      "\u001b[33mEpoch 17 Start\u001b[0m\n",
      "Train acc: 0.7823, loss: 0.0324\n",
      "Test acc: 0.7819, loss: 0.0325\n",
      "======================================\n",
      "\u001b[33mEpoch 18 Start\u001b[0m\n",
      "Train acc: 0.7833, loss: 0.0323\n",
      "Test acc: 0.7844, loss: 0.0321\n",
      "======================================\n",
      "\u001b[33mEpoch 19 Start\u001b[0m\n",
      "Train acc: 0.7841, loss: 0.0322\n",
      "Test acc: 0.7849, loss: 0.0320\n",
      "======================================\n",
      "\u001b[33mEpoch 20 Start\u001b[0m\n",
      "Train acc: 0.7850, loss: 0.0320\n",
      "Test acc: 0.7854, loss: 0.0320\n",
      "======================================\n"
     ]
    }
   ],
   "source": [
    "for i in range(epochs):\n",
    "    print('\\033[33m' + f'Epoch {i + 1} Start' + '\\33[0m')\n",
    "    \n",
    "    # Start Training\n",
    "    train_acc = 0\n",
    "    train_loss = 0\n",
    "    \n",
    "    model.train()\n",
    "    for data in train_loader:\n",
    "        optimizer.zero_grad()\n",
    "        img, label = data\n",
    "        img, label = img.to(device), label.to(device).float()\n",
    "        \n",
    "        output = model(img)\n",
    "        output_loss = loss(output, label)\n",
    "        # Calculate\n",
    "        train_acc += (output.argmax(dim=1) == label).sum().item()\n",
    "        train_loss += output_loss.item()\n",
    "        # BP\n",
    "        output_loss.backward()\n",
    "        optimizer.step()\n",
    "    # scheduler.step()\n",
    "    train_acc = train_acc / len(train_data)\n",
    "    train_loss /= len(train_loader)\n",
    "    \n",
    "    # Start Valuation\n",
    "    test_acc = 0\n",
    "    test_loss = 0\n",
    "    \n",
    "    model.eval()\n",
    "    with torch.no_grad():\n",
    "        for data in test_loader:\n",
    "            img, label = data\n",
    "            img, label = img.to(device), label.to(device).float()\n",
    "            \n",
    "            output = model(img)\n",
    "            output_loss = loss(output, label)\n",
    "            # Calculate\n",
    "            test_acc += (output.argmax(dim=1) == label).sum().item()\n",
    "            test_loss += output_loss.item()\n",
    "    test_acc = test_acc / len(test_data)\n",
    "    test_loss /= len(test_loader)\n",
    "    \n",
    "    history['acc'].append(train_acc)\n",
    "    history['loss'].append(train_loss)\n",
    "    history['val_acc'].append(test_acc)\n",
    "    history['val_loss'].append(test_loss)\n",
    "    \n",
    "    print(f'Train acc: {train_acc:.4f}, loss: {train_loss:.4f}')\n",
    "    print(f'Test acc: {test_acc:.4f}, loss: {test_loss:.4f}')\n",
    "    print('======================================')"
   ]
  },
  {
   "cell_type": "code",
   "execution_count": null,
   "id": "e59de470",
   "metadata": {},
   "outputs": [],
   "source": [
    "print('best val acc', round(max(history['val_acc']), 4))"
   ]
  },
  {
   "cell_type": "code",
   "execution_count": 131,
   "id": "5296e3ea",
   "metadata": {},
   "outputs": [],
   "source": [
    "def show(history:dict, name):\n",
    "    plt.cla(); plt.clf()\n",
    "    plt.plot(history[name], 'b', label='train')\n",
    "    plt.plot(history['val_'+name], 'r', label='val')\n",
    "    plt.xlabel('Epoch')\n",
    "    plt.ylabel(name)\n",
    "    plt.legend()\n",
    "    plt.title('Performance')\n",
    "    plt.show()"
   ]
  },
  {
   "cell_type": "code",
   "execution_count": 132,
   "id": "8b3232ba",
   "metadata": {},
   "outputs": [
    {
     "data": {
      "image/png": "[encoded data removed]",
      "text/plain": [
       "<Figure size 640x480 with 1 Axes>"
      ]
     },
     "metadata": {},
     "output_type": "display_data"
    }
   ],
   "source": [
    "show(history, 'acc')"
   ]
  },
  {
   "cell_type": "code",
   "execution_count": 133,
   "id": "13a14b3a",
   "metadata": {},
   "outputs": [
    {
     "data": {
      "image/png": "[encoded data removed]",
      "text/plain": [
       "<Figure size 640x480 with 1 Axes>"
      ]
     },
     "metadata": {},
     "output_type": "display_data"
    }
   ],
   "source": [
    "show(history, 'loss')"
   ]
  }
 ],
 "metadata": {
  "kernelspec": {
   "display_name": "base",
   "language": "python",
   "name": "python3"
  },
  "language_info": {
   "codemirror_mode": {
    "name": "ipython",
    "version": 3
   },
   "file_extension": ".py",
   "mimetype": "text/x-python",
   "name": "python",
   "nbconvert_exporter": "python",
   "pygments_lexer": "ipython3",
   "version": "3.9.19"
  }
 },
 "nbformat": 4,
 "nbformat_minor": 5
}
