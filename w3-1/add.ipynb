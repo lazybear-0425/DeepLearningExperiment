{
 "cells": [
  {
   "cell_type": "markdown",
   "metadata": {},
   "source": [
    " - 作業一 額外功課"
   ]
  },
  {
   "cell_type": "code",
   "execution_count": 3,
   "metadata": {},
   "outputs": [],
   "source": [
    "import torch\n",
    "from torch import nn\n",
    "from torch.utils.data import DataLoader, Dataset\n",
    "from sklearn.datasets import load_breast_cancer\n",
    "from sklearn.model_selection import train_test_split\n",
    "from torch.optim import Adam\n",
    "from torch.nn import BCEWithLogitsLoss # with sigmoid\n",
    "import matplotlib.pyplot as plt \n",
    "import numpy as np\n",
    "from sklearn.preprocessing import MinMaxScaler"
   ]
  },
  {
   "cell_type": "markdown",
   "metadata": {},
   "source": [
    " - 定義Dataset"
   ]
  },
  {
   "cell_type": "code",
   "execution_count": 4,
   "metadata": {},
   "outputs": [],
   "source": [
    "class cancerData(Dataset):\n",
    "    def __init__(self, isTrain=True, test_size=0.2):\n",
    "        super().__init__()\n",
    "        self.isTrain = isTrain\n",
    "        X_train, y_train = load_breast_cancer(return_X_y=True)\n",
    "        \n",
    "        # Preprocessing\n",
    "        X_train = MinMaxScaler().fit_transform(X_train)\n",
    "        X_train = torch.from_numpy(X_train.astype(np.float32))\n",
    "        y_train = torch.from_numpy(y_train.astype(np.float32)).reshape(-1, 1)\n",
    "        \n",
    "        # Split\n",
    "        X_train, X_test, y_train, y_test = train_test_split(X_train, y_train, test_size=test_size)\n",
    "        \n",
    "        if isTrain: self.data, self.label = X_train, y_train\n",
    "        else: self.data, self.label = X_test, y_test\n",
    "    def __len__(self):\n",
    "        return len(self.label)\n",
    "    def __getitem__(self, index):\n",
    "        return self.data[index], self.label[index]\n",
    "        "
   ]
  },
  {
   "cell_type": "code",
   "execution_count": 5,
   "metadata": {},
   "outputs": [],
   "source": [
    "# Hyper-parameter\n",
    "batch_size = 32\n",
    "epochs = 50"
   ]
  },
  {
   "cell_type": "code",
   "execution_count": 6,
   "metadata": {},
   "outputs": [],
   "source": [
    "train_data = cancerData(isTrain=True) # 訓練資料\n",
    "test_data = cancerData(isTrain=False) # 測試資料\n",
    "\n",
    "train_loader = DataLoader(train_data, batch_size=batch_size)\n",
    "test_loader = DataLoader(test_data, batch_size=batch_size)"
   ]
  },
  {
   "cell_type": "code",
   "execution_count": 7,
   "metadata": {},
   "outputs": [],
   "source": [
    "class Module(nn.Module):\n",
    "    def __init__(self):\n",
    "        super(Module, self).__init__()\n",
    "        self.net = nn.Sequential(\n",
    "            nn.Linear(30, 60),\n",
    "            nn.ReLU(),\n",
    "            nn.Dropout(0.5),\n",
    "            nn.Linear(60, 20),\n",
    "            nn.ReLU(),\n",
    "            nn.Dropout(0.5),\n",
    "            nn.Linear(20, 1),\n",
    "            # nn.Sigmoid() \n",
    "        )\n",
    "    def forward(self, X):\n",
    "        return self.net(X)\n",
    "    "
   ]
  },
  {
   "cell_type": "code",
   "execution_count": 8,
   "metadata": {},
   "outputs": [],
   "source": [
    "model = Module()\n",
    "optimizer = Adam(model.parameters())\n",
    "loss = BCEWithLogitsLoss()\n",
    "history = {'acc':[], 'val_acc':[], 'loss':[], 'val_loss':[]} # 儲存訓練過程"
   ]
  },
  {
   "cell_type": "code",
   "execution_count": 9,
   "metadata": {},
   "outputs": [
    {
     "name": "stdout",
     "output_type": "stream",
     "text": [
      "===== Epoch 1 start! ====================\n",
      "Training acc: 0.6286, training loss: 0.0222\n",
      "Test acc: 0.5614, test loss: 0.0238\n",
      "===== Epoch 2 start! ====================\n",
      "Training acc: 0.6484, training loss: 0.0217\n",
      "Test acc: 0.5614, test loss: 0.0232\n",
      "===== Epoch 3 start! ====================\n",
      "Training acc: 0.6989, training loss: 0.0211\n",
      "Test acc: 0.6053, test loss: 0.0223\n",
      "===== Epoch 4 start! ====================\n",
      "Training acc: 0.7670, training loss: 0.0204\n",
      "Test acc: 0.8684, test loss: 0.0210\n",
      "===== Epoch 5 start! ====================\n",
      "Training acc: 0.8286, training loss: 0.0189\n",
      "Test acc: 0.8947, test loss: 0.0193\n",
      "===== Epoch 6 start! ====================\n",
      "Training acc: 0.8352, training loss: 0.0178\n",
      "Test acc: 0.8947, test loss: 0.0173\n",
      "===== Epoch 7 start! ====================\n",
      "Training acc: 0.8593, training loss: 0.0161\n",
      "Test acc: 0.9035, test loss: 0.0151\n",
      "===== Epoch 8 start! ====================\n",
      "Training acc: 0.8637, training loss: 0.0146\n",
      "Test acc: 0.9123, test loss: 0.0130\n",
      "===== Epoch 9 start! ====================\n",
      "Training acc: 0.8857, training loss: 0.0128\n",
      "Test acc: 0.9123, test loss: 0.0113\n",
      "===== Epoch 10 start! ====================\n",
      "Training acc: 0.9099, training loss: 0.0107\n",
      "Test acc: 0.9211, test loss: 0.0097\n",
      "===== Epoch 11 start! ====================\n",
      "Training acc: 0.9077, training loss: 0.0102\n",
      "Test acc: 0.9211, test loss: 0.0086\n",
      "===== Epoch 12 start! ====================\n",
      "Training acc: 0.9143, training loss: 0.0091\n",
      "Test acc: 0.9123, test loss: 0.0078\n",
      "===== Epoch 13 start! ====================\n",
      "Training acc: 0.9165, training loss: 0.0082\n",
      "Test acc: 0.9298, test loss: 0.0071\n",
      "===== Epoch 14 start! ====================\n",
      "Training acc: 0.9033, training loss: 0.0084\n",
      "Test acc: 0.9298, test loss: 0.0067\n",
      "===== Epoch 15 start! ====================\n",
      "Training acc: 0.9297, training loss: 0.0072\n",
      "Test acc: 0.9298, test loss: 0.0064\n",
      "===== Epoch 16 start! ====================\n",
      "Training acc: 0.9143, training loss: 0.0073\n",
      "Test acc: 0.9298, test loss: 0.0061\n",
      "===== Epoch 17 start! ====================\n",
      "Training acc: 0.9385, training loss: 0.0064\n",
      "Test acc: 0.9474, test loss: 0.0058\n",
      "===== Epoch 18 start! ====================\n",
      "Training acc: 0.9231, training loss: 0.0074\n",
      "Test acc: 0.9123, test loss: 0.0060\n",
      "===== Epoch 19 start! ====================\n",
      "Training acc: 0.9187, training loss: 0.0073\n",
      "Test acc: 0.9561, test loss: 0.0055\n",
      "===== Epoch 20 start! ====================\n",
      "Training acc: 0.9495, training loss: 0.0060\n",
      "Test acc: 0.9474, test loss: 0.0052\n",
      "===== Epoch 21 start! ====================\n",
      "Training acc: 0.9297, training loss: 0.0067\n",
      "Test acc: 0.9386, test loss: 0.0051\n",
      "===== Epoch 22 start! ====================\n",
      "Training acc: 0.9319, training loss: 0.0058\n",
      "Test acc: 0.9474, test loss: 0.0048\n",
      "===== Epoch 23 start! ====================\n",
      "Training acc: 0.9407, training loss: 0.0060\n",
      "Test acc: 0.9386, test loss: 0.0046\n",
      "===== Epoch 24 start! ====================\n",
      "Training acc: 0.9538, training loss: 0.0045\n",
      "Test acc: 0.9386, test loss: 0.0044\n",
      "===== Epoch 25 start! ====================\n",
      "Training acc: 0.9341, training loss: 0.0055\n",
      "Test acc: 0.9649, test loss: 0.0043\n",
      "===== Epoch 26 start! ====================\n",
      "Training acc: 0.9429, training loss: 0.0051\n",
      "Test acc: 0.9649, test loss: 0.0041\n",
      "===== Epoch 27 start! ====================\n",
      "Training acc: 0.9451, training loss: 0.0055\n",
      "Test acc: 0.9386, test loss: 0.0040\n",
      "===== Epoch 28 start! ====================\n",
      "Training acc: 0.9385, training loss: 0.0047\n",
      "Test acc: 0.9649, test loss: 0.0039\n",
      "===== Epoch 29 start! ====================\n",
      "Training acc: 0.9495, training loss: 0.0049\n",
      "Test acc: 0.9561, test loss: 0.0038\n",
      "===== Epoch 30 start! ====================\n",
      "Training acc: 0.9604, training loss: 0.0046\n",
      "Test acc: 0.9561, test loss: 0.0036\n",
      "===== Epoch 31 start! ====================\n",
      "Training acc: 0.9626, training loss: 0.0043\n",
      "Test acc: 0.9474, test loss: 0.0036\n",
      "===== Epoch 32 start! ====================\n",
      "Training acc: 0.9648, training loss: 0.0042\n",
      "Test acc: 0.9474, test loss: 0.0035\n",
      "===== Epoch 33 start! ====================\n",
      "Training acc: 0.9538, training loss: 0.0043\n",
      "Test acc: 0.9561, test loss: 0.0032\n",
      "===== Epoch 34 start! ====================\n",
      "Training acc: 0.9582, training loss: 0.0043\n",
      "Test acc: 0.9649, test loss: 0.0031\n",
      "===== Epoch 35 start! ====================\n",
      "Training acc: 0.9560, training loss: 0.0040\n",
      "Test acc: 0.9649, test loss: 0.0030\n",
      "===== Epoch 36 start! ====================\n",
      "Training acc: 0.9648, training loss: 0.0042\n",
      "Test acc: 0.9649, test loss: 0.0029\n",
      "===== Epoch 37 start! ====================\n",
      "Training acc: 0.9714, training loss: 0.0035\n",
      "Test acc: 0.9649, test loss: 0.0028\n",
      "===== Epoch 38 start! ====================\n",
      "Training acc: 0.9648, training loss: 0.0038\n",
      "Test acc: 0.9649, test loss: 0.0027\n",
      "===== Epoch 39 start! ====================\n",
      "Training acc: 0.9604, training loss: 0.0038\n",
      "Test acc: 0.9561, test loss: 0.0029\n",
      "===== Epoch 40 start! ====================\n",
      "Training acc: 0.9604, training loss: 0.0037\n",
      "Test acc: 0.9649, test loss: 0.0025\n",
      "===== Epoch 41 start! ====================\n",
      "Training acc: 0.9670, training loss: 0.0038\n",
      "Test acc: 0.9649, test loss: 0.0024\n",
      "===== Epoch 42 start! ====================\n",
      "Training acc: 0.9626, training loss: 0.0036\n",
      "Test acc: 0.9649, test loss: 0.0024\n",
      "===== Epoch 43 start! ====================\n",
      "Training acc: 0.9648, training loss: 0.0035\n",
      "Test acc: 0.9737, test loss: 0.0024\n",
      "===== Epoch 44 start! ====================\n",
      "Training acc: 0.9604, training loss: 0.0038\n",
      "Test acc: 0.9649, test loss: 0.0023\n",
      "===== Epoch 45 start! ====================\n",
      "Training acc: 0.9780, training loss: 0.0033\n",
      "Test acc: 0.9825, test loss: 0.0022\n",
      "===== Epoch 46 start! ====================\n",
      "Training acc: 0.9758, training loss: 0.0032\n",
      "Test acc: 0.9649, test loss: 0.0022\n",
      "===== Epoch 47 start! ====================\n",
      "Training acc: 0.9626, training loss: 0.0038\n",
      "Test acc: 0.9737, test loss: 0.0021\n",
      "===== Epoch 48 start! ====================\n",
      "Training acc: 0.9582, training loss: 0.0036\n",
      "Test acc: 0.9825, test loss: 0.0020\n",
      "===== Epoch 49 start! ====================\n",
      "Training acc: 0.9670, training loss: 0.0032\n",
      "Test acc: 0.9737, test loss: 0.0019\n",
      "===== Epoch 50 start! ====================\n",
      "Training acc: 0.9692, training loss: 0.0033\n",
      "Test acc: 0.9825, test loss: 0.0019\n"
     ]
    }
   ],
   "source": [
    "for i in range(epochs):\n",
    "    print(f'===== Epoch {i + 1} start! ====================')\n",
    "    model.train()\n",
    "    training_acc = 0\n",
    "    training_loss = 0\n",
    "    for data in train_loader:\n",
    "        frame, label = data\n",
    "        output = model(frame)\n",
    "        output_loss = loss(output, label)\n",
    "        # Record\n",
    "        training_acc = training_acc + ((nn.Sigmoid()(output) >= 0.5) == label).sum().item()\n",
    "        training_loss = training_loss + output_loss.item()\n",
    "        # BP\n",
    "        optimizer.zero_grad()\n",
    "        output_loss.backward()\n",
    "        optimizer.step()\n",
    "    training_acc = training_acc / len(train_data)\n",
    "    training_loss = training_loss / len(train_data)\n",
    "    history['loss'].append(training_loss)\n",
    "    history['acc'].append(training_acc)    \n",
    "    \n",
    "    model.eval()\n",
    "    test_acc = 0\n",
    "    test_loss = 0\n",
    "    with torch.no_grad():\n",
    "        for data in test_loader:\n",
    "            frame, label = data\n",
    "            output = model(frame)\n",
    "            output_loss = loss(output, label)\n",
    "            test_acc = test_acc + ((nn.Sigmoid()(output) >= 0.5) == label).sum().item()\n",
    "            test_loss = test_loss + output_loss.item()\n",
    "    test_acc = test_acc / len(test_data)\n",
    "    test_loss = test_loss / len(test_data)\n",
    "    history['val_acc'].append(test_acc)\n",
    "    history['val_loss'].append(test_loss)\n",
    "    \n",
    "    print(f'Training acc: {training_acc:.4f}, training loss: {training_loss:.4f}')\n",
    "    print(f'Test acc: {test_acc:.4f}, test loss: {test_loss:.4f}')"
   ]
  },
  {
   "cell_type": "code",
   "execution_count": 10,
   "metadata": {},
   "outputs": [
    {
     "data": {
      "image/png": "[encoded data removed]",
      "text/plain": [
       "<Figure size 640x480 with 1 Axes>"
      ]
     },
     "metadata": {},
     "output_type": "display_data"
    }
   ],
   "source": [
    "plt.cla(); plt.clf()\n",
    "plt.plot(history['acc'], 'b', label='training')\n",
    "plt.plot(history['val_acc'], 'r', label='test')\n",
    "plt.legend()\n",
    "plt.title('Training Process (Accuracy)')\n",
    "plt.xlabel('Epoch')\n",
    "plt.ylabel('Accuracy')\n",
    "plt.show()"
   ]
  },
  {
   "cell_type": "code",
   "execution_count": 11,
   "metadata": {},
   "outputs": [
    {
     "data": {
      "image/png": "[encoded data removed]",
      "text/plain": [
       "<Figure size 640x480 with 1 Axes>"
      ]
     },
     "metadata": {},
     "output_type": "display_data"
    }
   ],
   "source": [
    "plt.cla(); plt.clf()\n",
    "plt.plot(history['loss'], 'b', label='training')\n",
    "plt.plot(history['val_loss'], 'r', label='test')\n",
    "plt.legend()\n",
    "plt.title('Training Process (Loss)')\n",
    "plt.xlabel('Epoch')\n",
    "plt.ylabel('Loss')\n",
    "plt.show()"
   ]
  },
  {
   "cell_type": "code",
   "execution_count": 12,
   "metadata": {},
   "outputs": [
    {
     "name": "stdout",
     "output_type": "stream",
     "text": [
      "----------------------------------------------------------------\n",
      "        Layer (type)               Output Shape         Param #\n",
      "================================================================\n",
      "            Linear-1                   [-1, 60]           1,860\n",
      "              ReLU-2                   [-1, 60]               0\n",
      "           Dropout-3                   [-1, 60]               0\n",
      "            Linear-4                   [-1, 20]           1,220\n",
      "              ReLU-5                   [-1, 20]               0\n",
      "           Dropout-6                   [-1, 20]               0\n",
      "            Linear-7                    [-1, 1]              21\n",
      "================================================================\n",
      "Total params: 3,101\n",
      "Trainable params: 3,101\n",
      "Non-trainable params: 0\n",
      "----------------------------------------------------------------\n",
      "Input size (MB): 0.00\n",
      "Forward/backward pass size (MB): 0.00\n",
      "Params size (MB): 0.01\n",
      "Estimated Total Size (MB): 0.01\n",
      "----------------------------------------------------------------\n"
     ]
    }
   ],
   "source": [
    "from torchsummary import summary\n",
    "summary(model, (30, ))"
   ]
  },
  {
   "cell_type": "markdown",
   "metadata": {},
   "source": [
    " - Testing"
   ]
  },
  {
   "cell_type": "code",
   "execution_count": 17,
   "metadata": {},
   "outputs": [
    {
     "name": "stdout",
     "output_type": "stream",
     "text": [
      "\u001b[33mBreast Cancer Dataset Outcome\u001b[0m\n",
      "Accuracy 0.9825\n",
      "Precision 0.9697\n",
      "Recall 1.0000\n",
      "F1 Score 0.9846\n",
      "Classification Report\n",
      "              precision    recall  f1-score   support\n",
      "\n",
      "        real       1.00      0.96      0.98        50\n",
      "    positive       0.97      1.00      0.98        64\n",
      "\n",
      "    accuracy                           0.98       114\n",
      "   macro avg       0.98      0.98      0.98       114\n",
      "weighted avg       0.98      0.98      0.98       114\n",
      "\n"
     ]
    }
   ],
   "source": [
    "pred_label = []\n",
    "true_label = []\n",
    "for data in test_loader:\n",
    "    frame, label = data\n",
    "    output = model(frame)\n",
    "    true_label.extend(label)\n",
    "    pred_label.extend(nn.Sigmoid()(output) >= 0.5)\n",
    "    \n",
    "from sklearn.metrics import accuracy_score, f1_score, precision_score, recall_score, classification_report\n",
    "print('\\033[33m' + 'Breast Cancer Dataset Outcome' + '\\033[0m')\n",
    "print(f'Accuracy {accuracy_score(true_label, pred_label):.4f}')\n",
    "print(f'Precision {precision_score(true_label, pred_label):.4f}')\n",
    "print(f'Recall {recall_score(true_label, pred_label):.4f}')\n",
    "print(f'F1 Score {f1_score(true_label, pred_label):.4f}')\n",
    "print('Classification Report')\n",
    "print(classification_report(true_label, pred_label, target_names=['real', 'positive']))"
   ]
  }
 ],
 "metadata": {
  "kernelspec": {
   "display_name": "base",
   "language": "python",
   "name": "python3"
  },
  "language_info": {
   "codemirror_mode": {
    "name": "ipython",
    "version": 3
   },
   "file_extension": ".py",
   "mimetype": "text/x-python",
   "name": "python",
   "nbconvert_exporter": "python",
   "pygments_lexer": "ipython3",
   "version": "3.9.19"
  }
 },
 "nbformat": 4,
 "nbformat_minor": 2
}
