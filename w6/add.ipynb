{
 "cells": [
  {
   "cell_type": "code",
   "execution_count": 303,
   "metadata": {},
   "outputs": [],
   "source": [
    "import torch\n",
    "from time import time"
   ]
  },
  {
   "cell_type": "code",
   "execution_count": 304,
   "metadata": {},
   "outputs": [],
   "source": [
    "device = 'cuda'"
   ]
  },
  {
   "cell_type": "code",
   "execution_count": null,
   "metadata": {},
   "outputs": [],
   "source": [
    "batch = 100000\n",
    "m = 100\n",
    "n = 100\n",
    "p = 100\n",
    "\n",
    "a = torch.rand((batch, m, n) ,device=device)\n",
    "b = torch.rand((batch, n, p), device=device)"
   ]
  },
  {
   "cell_type": "code",
   "execution_count": null,
   "metadata": {},
   "outputs": [],
   "source": [
    "s1 = torch.cuda.Stream()\n",
    "s2 = torch.cuda.Stream()\n",
    "\n",
    "c = d = None\n",
    "\n",
    "start = time()\n",
    "\n",
    "torch.cuda.synchronize() # 等待所有準備就緒\n",
    "with torch.cuda.stream(s1):\n",
    "    c = torch.bmm(a[:batch//2, :, :], b[:batch//2, :, :])\n",
    "    c = torch.norm(c, p='fro', dim=[1, 2])\n",
    "with torch.cuda.stream(s2):\n",
    "    d = torch.bmm(a[batch//2:, :, :], b[batch//2:, :, :])\n",
    "    d = torch.norm(d, p='fro', dim=[1, 2])\n",
    "c = torch.cat((c, d), dim=0)\n",
    "torch.cuda.synchronize() # 等待做完矩陣乘法\n",
    "c = c.to('cpu')\n",
    "\n",
    "end = time()"
   ]
  },
  {
   "cell_type": "code",
   "execution_count": 306,
   "metadata": {},
   "outputs": [
    {
     "name": "stdout",
     "output_type": "stream",
     "text": [
      "cpu\n",
      "Outcome shape is torch.Size([100000])\n",
      "Total time: 1.14771\n"
     ]
    }
   ],
   "source": [
    "print(c.device)\n",
    "print('Outcome shape is', c.shape)\n",
    "print(f'Total time: {end - start:.5f}')"
   ]
  }
 ],
 "metadata": {
  "kernelspec": {
   "display_name": "base",
   "language": "python",
   "name": "python3"
  },
  "language_info": {
   "codemirror_mode": {
    "name": "ipython",
    "version": 3
   },
   "file_extension": ".py",
   "mimetype": "text/x-python",
   "name": "python",
   "nbconvert_exporter": "python",
   "pygments_lexer": "ipython3",
   "version": "3.9.13"
  }
 },
 "nbformat": 4,
 "nbformat_minor": 2
}
